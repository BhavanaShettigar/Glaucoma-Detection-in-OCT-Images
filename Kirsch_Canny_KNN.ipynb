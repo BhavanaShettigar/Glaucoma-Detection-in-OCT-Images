{
  "nbformat": 4,
  "nbformat_minor": 0,
  "metadata": {
    "colab": {
      "provenance": []
    },
    "kernelspec": {
      "name": "python3",
      "display_name": "Python 3"
    }
  },
  "cells": [
    {
      "cell_type": "code",
      "metadata": {
        "id": "UORw8kqD3MZb",
        "colab": {
          "base_uri": "https://localhost:8080/",
          "height": 34
        },
        "outputId": "cf94a430-5f77-45dc-c501-3e61fc244934"
      },
      "source": [
        "cd drive/My Drive/Bhavana_Dataset(AGE)/AngleClosureGlaucomaDataset"
      ],
      "execution_count": null,
      "outputs": [
        {
          "output_type": "stream",
          "text": [
            "/content/drive/My Drive/Bhavana_Dataset(AGE)/AngleClosureGlaucomaDataset\n"
          ],
          "name": "stdout"
        }
      ]
    },
    {
      "cell_type": "code",
      "metadata": {
        "id": "W6VJReNbEg-S",
        "colab": {
          "base_uri": "https://localhost:8080/",
          "height": 71
        },
        "outputId": "24738386-269d-413a-abf3-ce2151a7ddf5"
      },
      "source": [
        "from mlxtend.plotting import plot_decision_regions\n",
        "import numpy as np\n",
        "import pandas as pd\n",
        "import matplotlib.pyplot as plt\n",
        "import seaborn as sns\n",
        "sns.set()\n",
        "import warnings\n",
        "warnings.filterwarnings('ignore')\n",
        "%matplotlib inline"
      ],
      "execution_count": null,
      "outputs": [
        {
          "output_type": "stream",
          "text": [
            "/usr/local/lib/python3.6/dist-packages/statsmodels/tools/_testing.py:19: FutureWarning: pandas.util.testing is deprecated. Use the functions in the public API at pandas.testing instead.\n",
            "  import pandas.util.testing as tm\n"
          ],
          "name": "stderr"
        }
      ]
    },
    {
      "cell_type": "code",
      "metadata": {
        "id": "IWOrkw65EoRA"
      },
      "source": [
        "glaucoma_data = pd.read_excel('KirschCanny.xlsx')"
      ],
      "execution_count": null,
      "outputs": []
    },
    {
      "cell_type": "code",
      "metadata": {
        "id": "bDa8YSEXExGq",
        "colab": {
          "base_uri": "https://localhost:8080/",
          "height": 224
        },
        "outputId": "0fa20b24-d1ed-4644-bac7-73184048913c"
      },
      "source": [
        "glaucoma_data.head()"
      ],
      "execution_count": null,
      "outputs": [
        {
          "output_type": "execute_result",
          "data": {
            "text/html": [
              "<div>\n",
              "<style scoped>\n",
              "    .dataframe tbody tr th:only-of-type {\n",
              "        vertical-align: middle;\n",
              "    }\n",
              "\n",
              "    .dataframe tbody tr th {\n",
              "        vertical-align: top;\n",
              "    }\n",
              "\n",
              "    .dataframe thead th {\n",
              "        text-align: right;\n",
              "    }\n",
              "</style>\n",
              "<table border=\"1\" class=\"dataframe\">\n",
              "  <thead>\n",
              "    <tr style=\"text-align: right;\">\n",
              "      <th></th>\n",
              "      <th>contrast</th>\n",
              "      <th>correlation</th>\n",
              "      <th>energy</th>\n",
              "      <th>entropy</th>\n",
              "      <th>homogenity</th>\n",
              "      <th>sumofsquares</th>\n",
              "      <th>sumaverage</th>\n",
              "      <th>sumvariance</th>\n",
              "      <th>sumentropy</th>\n",
              "      <th>differencevariance</th>\n",
              "      <th>differenceentropy</th>\n",
              "      <th>imcorrelation1</th>\n",
              "      <th>imcorrelation2</th>\n",
              "      <th>acw</th>\n",
              "      <th>tial</th>\n",
              "      <th>tiar</th>\n",
              "      <th>class</th>\n",
              "    </tr>\n",
              "  </thead>\n",
              "  <tbody>\n",
              "    <tr>\n",
              "      <th>0</th>\n",
              "      <td>876696</td>\n",
              "      <td>0.794965</td>\n",
              "      <td>0.782117</td>\n",
              "      <td>0.777659</td>\n",
              "      <td>0.939001</td>\n",
              "      <td>1.007746</td>\n",
              "      <td>2.589055</td>\n",
              "      <td>3.619826</td>\n",
              "      <td>0.634762</td>\n",
              "      <td>0.901523</td>\n",
              "      <td>0.418518</td>\n",
              "      <td>-0.427808</td>\n",
              "      <td>0.587421</td>\n",
              "      <td>12.417210</td>\n",
              "      <td>50.713104</td>\n",
              "      <td>54.625850</td>\n",
              "      <td>0</td>\n",
              "    </tr>\n",
              "    <tr>\n",
              "      <th>1</th>\n",
              "      <td>652866</td>\n",
              "      <td>0.749120</td>\n",
              "      <td>0.800315</td>\n",
              "      <td>0.689011</td>\n",
              "      <td>0.946135</td>\n",
              "      <td>0.613324</td>\n",
              "      <td>2.430883</td>\n",
              "      <td>2.163636</td>\n",
              "      <td>0.565350</td>\n",
              "      <td>0.728602</td>\n",
              "      <td>0.377648</td>\n",
              "      <td>-0.414564</td>\n",
              "      <td>0.550048</td>\n",
              "      <td>12.766860</td>\n",
              "      <td>44.209367</td>\n",
              "      <td>51.189105</td>\n",
              "      <td>0</td>\n",
              "    </tr>\n",
              "    <tr>\n",
              "      <th>2</th>\n",
              "      <td>897722</td>\n",
              "      <td>0.786121</td>\n",
              "      <td>0.761881</td>\n",
              "      <td>0.834138</td>\n",
              "      <td>0.933473</td>\n",
              "      <td>0.989247</td>\n",
              "      <td>2.606359</td>\n",
              "      <td>3.539188</td>\n",
              "      <td>0.679562</td>\n",
              "      <td>0.946953</td>\n",
              "      <td>0.446129</td>\n",
              "      <td>-0.409976</td>\n",
              "      <td>0.591262</td>\n",
              "      <td>11.843102</td>\n",
              "      <td>49.852332</td>\n",
              "      <td>59.431839</td>\n",
              "      <td>0</td>\n",
              "    </tr>\n",
              "    <tr>\n",
              "      <th>3</th>\n",
              "      <td>886402</td>\n",
              "      <td>0.776906</td>\n",
              "      <td>0.762713</td>\n",
              "      <td>0.826456</td>\n",
              "      <td>0.933806</td>\n",
              "      <td>0.936426</td>\n",
              "      <td>2.598658</td>\n",
              "      <td>3.333199</td>\n",
              "      <td>0.671582</td>\n",
              "      <td>0.937824</td>\n",
              "      <td>0.443336</td>\n",
              "      <td>-0.421490</td>\n",
              "      <td>0.597358</td>\n",
              "      <td>12.214673</td>\n",
              "      <td>18.855062</td>\n",
              "      <td>24.666811</td>\n",
              "      <td>1</td>\n",
              "    </tr>\n",
              "    <tr>\n",
              "      <th>4</th>\n",
              "      <td>730968</td>\n",
              "      <td>0.785959</td>\n",
              "      <td>0.811984</td>\n",
              "      <td>0.675243</td>\n",
              "      <td>0.948024</td>\n",
              "      <td>0.804881</td>\n",
              "      <td>2.488765</td>\n",
              "      <td>2.879097</td>\n",
              "      <td>0.553036</td>\n",
              "      <td>0.761926</td>\n",
              "      <td>0.368934</td>\n",
              "      <td>-0.445033</td>\n",
              "      <td>0.566195</td>\n",
              "      <td>11.875336</td>\n",
              "      <td>85.406289</td>\n",
              "      <td>89.199509</td>\n",
              "      <td>0</td>\n",
              "    </tr>\n",
              "  </tbody>\n",
              "</table>\n",
              "</div>"
            ],
            "text/plain": [
              "   contrast  correlation    energy  ...       tial       tiar  class\n",
              "0    876696     0.794965  0.782117  ...  50.713104  54.625850      0\n",
              "1    652866     0.749120  0.800315  ...  44.209367  51.189105      0\n",
              "2    897722     0.786121  0.761881  ...  49.852332  59.431839      0\n",
              "3    886402     0.776906  0.762713  ...  18.855062  24.666811      1\n",
              "4    730968     0.785959  0.811984  ...  85.406289  89.199509      0\n",
              "\n",
              "[5 rows x 17 columns]"
            ]
          },
          "metadata": {
            "tags": []
          },
          "execution_count": 4
        }
      ]
    },
    {
      "cell_type": "code",
      "metadata": {
        "id": "FGwneJ88E1fa",
        "colab": {
          "base_uri": "https://localhost:8080/",
          "height": 425
        },
        "outputId": "78eed366-0cb1-4420-a3be-0cbdc471fb77"
      },
      "source": [
        "glaucoma_data.info(verbose=True)"
      ],
      "execution_count": null,
      "outputs": [
        {
          "output_type": "stream",
          "text": [
            "<class 'pandas.core.frame.DataFrame'>\n",
            "RangeIndex: 100 entries, 0 to 99\n",
            "Data columns (total 17 columns):\n",
            " #   Column              Non-Null Count  Dtype  \n",
            "---  ------              --------------  -----  \n",
            " 0   contrast            100 non-null    int64  \n",
            " 1   correlation         100 non-null    float64\n",
            " 2   energy              100 non-null    float64\n",
            " 3   entropy             100 non-null    float64\n",
            " 4   homogenity          100 non-null    float64\n",
            " 5   sumofsquares        100 non-null    float64\n",
            " 6   sumaverage          100 non-null    float64\n",
            " 7   sumvariance         100 non-null    float64\n",
            " 8   sumentropy          100 non-null    float64\n",
            " 9   differencevariance  100 non-null    float64\n",
            " 10  differenceentropy   100 non-null    float64\n",
            " 11  imcorrelation1      100 non-null    float64\n",
            " 12  imcorrelation2      100 non-null    float64\n",
            " 13  acw                 100 non-null    float64\n",
            " 14  tial                100 non-null    float64\n",
            " 15  tiar                100 non-null    float64\n",
            " 16  class               100 non-null    int64  \n",
            "dtypes: float64(15), int64(2)\n",
            "memory usage: 13.4 KB\n"
          ],
          "name": "stdout"
        }
      ]
    },
    {
      "cell_type": "code",
      "metadata": {
        "id": "Djz1TIA4E4VG",
        "colab": {
          "base_uri": "https://localhost:8080/",
          "height": 317
        },
        "outputId": "a41011b8-f3e9-439e-a085-eaf6536e7604"
      },
      "source": [
        "glaucoma_data.describe()"
      ],
      "execution_count": null,
      "outputs": [
        {
          "output_type": "execute_result",
          "data": {
            "text/html": [
              "<div>\n",
              "<style scoped>\n",
              "    .dataframe tbody tr th:only-of-type {\n",
              "        vertical-align: middle;\n",
              "    }\n",
              "\n",
              "    .dataframe tbody tr th {\n",
              "        vertical-align: top;\n",
              "    }\n",
              "\n",
              "    .dataframe thead th {\n",
              "        text-align: right;\n",
              "    }\n",
              "</style>\n",
              "<table border=\"1\" class=\"dataframe\">\n",
              "  <thead>\n",
              "    <tr style=\"text-align: right;\">\n",
              "      <th></th>\n",
              "      <th>contrast</th>\n",
              "      <th>correlation</th>\n",
              "      <th>energy</th>\n",
              "      <th>entropy</th>\n",
              "      <th>homogenity</th>\n",
              "      <th>sumofsquares</th>\n",
              "      <th>sumaverage</th>\n",
              "      <th>sumvariance</th>\n",
              "      <th>sumentropy</th>\n",
              "      <th>differencevariance</th>\n",
              "      <th>differenceentropy</th>\n",
              "      <th>imcorrelation1</th>\n",
              "      <th>imcorrelation2</th>\n",
              "      <th>acw</th>\n",
              "      <th>tial</th>\n",
              "      <th>tiar</th>\n",
              "      <th>class</th>\n",
              "    </tr>\n",
              "  </thead>\n",
              "  <tbody>\n",
              "    <tr>\n",
              "      <th>count</th>\n",
              "      <td>100.000000</td>\n",
              "      <td>100.000000</td>\n",
              "      <td>100.000000</td>\n",
              "      <td>100.000000</td>\n",
              "      <td>100.000000</td>\n",
              "      <td>100.000000</td>\n",
              "      <td>100.000000</td>\n",
              "      <td>100.000000</td>\n",
              "      <td>100.000000</td>\n",
              "      <td>100.000000</td>\n",
              "      <td>100.000000</td>\n",
              "      <td>100.000000</td>\n",
              "      <td>100.000000</td>\n",
              "      <td>100.000000</td>\n",
              "      <td>100.000000</td>\n",
              "      <td>100.000000</td>\n",
              "      <td>100.000000</td>\n",
              "    </tr>\n",
              "    <tr>\n",
              "      <th>mean</th>\n",
              "      <td>666529.670000</td>\n",
              "      <td>0.756061</td>\n",
              "      <td>0.799514</td>\n",
              "      <td>0.694145</td>\n",
              "      <td>0.945780</td>\n",
              "      <td>0.652191</td>\n",
              "      <td>2.445871</td>\n",
              "      <td>2.310524</td>\n",
              "      <td>0.569772</td>\n",
              "      <td>0.738690</td>\n",
              "      <td>0.379521</td>\n",
              "      <td>-0.415190</td>\n",
              "      <td>0.551302</td>\n",
              "      <td>12.122796</td>\n",
              "      <td>49.254270</td>\n",
              "      <td>51.560224</td>\n",
              "      <td>0.200000</td>\n",
              "    </tr>\n",
              "    <tr>\n",
              "      <th>std</th>\n",
              "      <td>95661.195789</td>\n",
              "      <td>0.019759</td>\n",
              "      <td>0.020663</td>\n",
              "      <td>0.068767</td>\n",
              "      <td>0.006066</td>\n",
              "      <td>0.127402</td>\n",
              "      <td>0.070620</td>\n",
              "      <td>0.461378</td>\n",
              "      <td>0.053907</td>\n",
              "      <td>0.090944</td>\n",
              "      <td>0.032947</td>\n",
              "      <td>0.012353</td>\n",
              "      <td>0.026617</td>\n",
              "      <td>0.549334</td>\n",
              "      <td>20.498450</td>\n",
              "      <td>20.260891</td>\n",
              "      <td>0.402015</td>\n",
              "    </tr>\n",
              "    <tr>\n",
              "      <th>min</th>\n",
              "      <td>393740.000000</td>\n",
              "      <td>0.640419</td>\n",
              "      <td>0.757594</td>\n",
              "      <td>0.499679</td>\n",
              "      <td>0.933473</td>\n",
              "      <td>0.258072</td>\n",
              "      <td>2.240608</td>\n",
              "      <td>0.891565</td>\n",
              "      <td>0.415608</td>\n",
              "      <td>0.503967</td>\n",
              "      <td>0.283596</td>\n",
              "      <td>-0.445033</td>\n",
              "      <td>0.440140</td>\n",
              "      <td>10.761774</td>\n",
              "      <td>0.985500</td>\n",
              "      <td>0.572960</td>\n",
              "      <td>0.000000</td>\n",
              "    </tr>\n",
              "    <tr>\n",
              "      <th>25%</th>\n",
              "      <td>610415.000000</td>\n",
              "      <td>0.747098</td>\n",
              "      <td>0.784054</td>\n",
              "      <td>0.649701</td>\n",
              "      <td>0.941690</td>\n",
              "      <td>0.588962</td>\n",
              "      <td>2.408225</td>\n",
              "      <td>2.076883</td>\n",
              "      <td>0.534517</td>\n",
              "      <td>0.685544</td>\n",
              "      <td>0.358715</td>\n",
              "      <td>-0.421000</td>\n",
              "      <td>0.538571</td>\n",
              "      <td>11.781769</td>\n",
              "      <td>35.188662</td>\n",
              "      <td>37.351593</td>\n",
              "      <td>0.000000</td>\n",
              "    </tr>\n",
              "    <tr>\n",
              "      <th>50%</th>\n",
              "      <td>669797.000000</td>\n",
              "      <td>0.756226</td>\n",
              "      <td>0.799954</td>\n",
              "      <td>0.692164</td>\n",
              "      <td>0.945748</td>\n",
              "      <td>0.652899</td>\n",
              "      <td>2.443991</td>\n",
              "      <td>2.313808</td>\n",
              "      <td>0.567808</td>\n",
              "      <td>0.742476</td>\n",
              "      <td>0.380520</td>\n",
              "      <td>-0.415551</td>\n",
              "      <td>0.553350</td>\n",
              "      <td>12.116464</td>\n",
              "      <td>49.732319</td>\n",
              "      <td>53.747425</td>\n",
              "      <td>0.000000</td>\n",
              "    </tr>\n",
              "    <tr>\n",
              "      <th>75%</th>\n",
              "      <td>726834.500000</td>\n",
              "      <td>0.768581</td>\n",
              "      <td>0.813303</td>\n",
              "      <td>0.741979</td>\n",
              "      <td>0.949630</td>\n",
              "      <td>0.720561</td>\n",
              "      <td>2.487609</td>\n",
              "      <td>2.543519</td>\n",
              "      <td>0.607297</td>\n",
              "      <td>0.802492</td>\n",
              "      <td>0.401437</td>\n",
              "      <td>-0.410316</td>\n",
              "      <td>0.568584</td>\n",
              "      <td>12.441141</td>\n",
              "      <td>63.138057</td>\n",
              "      <td>65.783244</td>\n",
              "      <td>0.000000</td>\n",
              "    </tr>\n",
              "    <tr>\n",
              "      <th>max</th>\n",
              "      <td>897722.000000</td>\n",
              "      <td>0.800875</td>\n",
              "      <td>0.859498</td>\n",
              "      <td>0.841082</td>\n",
              "      <td>0.962797</td>\n",
              "      <td>1.008939</td>\n",
              "      <td>2.634708</td>\n",
              "      <td>3.636580</td>\n",
              "      <td>0.686019</td>\n",
              "      <td>0.946953</td>\n",
              "      <td>0.446129</td>\n",
              "      <td>-0.331118</td>\n",
              "      <td>0.613779</td>\n",
              "      <td>14.212093</td>\n",
              "      <td>97.945941</td>\n",
              "      <td>99.290512</td>\n",
              "      <td>1.000000</td>\n",
              "    </tr>\n",
              "  </tbody>\n",
              "</table>\n",
              "</div>"
            ],
            "text/plain": [
              "            contrast  correlation  ...        tiar       class\n",
              "count     100.000000   100.000000  ...  100.000000  100.000000\n",
              "mean   666529.670000     0.756061  ...   51.560224    0.200000\n",
              "std     95661.195789     0.019759  ...   20.260891    0.402015\n",
              "min    393740.000000     0.640419  ...    0.572960    0.000000\n",
              "25%    610415.000000     0.747098  ...   37.351593    0.000000\n",
              "50%    669797.000000     0.756226  ...   53.747425    0.000000\n",
              "75%    726834.500000     0.768581  ...   65.783244    0.000000\n",
              "max    897722.000000     0.800875  ...   99.290512    1.000000\n",
              "\n",
              "[8 rows x 17 columns]"
            ]
          },
          "metadata": {
            "tags": []
          },
          "execution_count": 6
        }
      ]
    },
    {
      "cell_type": "code",
      "metadata": {
        "id": "V6aF5e1gE8sf",
        "colab": {
          "base_uri": "https://localhost:8080/",
          "height": 323
        },
        "outputId": "eaf9ddc7-acfd-4280-b9c1-3dcdb18f79ba"
      },
      "source": [
        "print(glaucoma_data.isnull().sum())"
      ],
      "execution_count": null,
      "outputs": [
        {
          "output_type": "stream",
          "text": [
            "contrast              0\n",
            "correlation           0\n",
            "energy                0\n",
            "entropy               0\n",
            "homogenity            0\n",
            "sumofsquares          0\n",
            "sumaverage            0\n",
            "sumvariance           0\n",
            "sumentropy            0\n",
            "differencevariance    0\n",
            "differenceentropy     0\n",
            "imcorrelation1        0\n",
            "imcorrelation2        0\n",
            "acw                   0\n",
            "tial                  0\n",
            "tiar                  0\n",
            "class                 0\n",
            "dtype: int64\n"
          ],
          "name": "stdout"
        }
      ]
    },
    {
      "cell_type": "code",
      "metadata": {
        "id": "WhUKxeNZFG-d",
        "colab": {
          "base_uri": "https://localhost:8080/",
          "height": 34
        },
        "outputId": "579e2fd2-a35a-479c-edae-4baf8b112c3d"
      },
      "source": [
        "glaucoma_data.shape"
      ],
      "execution_count": null,
      "outputs": [
        {
          "output_type": "execute_result",
          "data": {
            "text/plain": [
              "(100, 17)"
            ]
          },
          "metadata": {
            "tags": []
          },
          "execution_count": 8
        }
      ]
    },
    {
      "cell_type": "code",
      "metadata": {
        "id": "twpDgia_FgC6",
        "colab": {
          "base_uri": "https://localhost:8080/",
          "height": 335
        },
        "outputId": "d42a4a68-02fc-46d3-cecb-bacd800cf82c"
      },
      "source": [
        "colors = [\"#11111F\", \"#1F0101\"]\n",
        "\n",
        "sns.countplot('class', data=glaucoma_data, palette=colors)\n",
        "plt.title('Class distributions \\n (0 -> No Glaucoma  1 -> Glaucoma)', fontsize=14)"
      ],
      "execution_count": null,
      "outputs": [
        {
          "output_type": "execute_result",
          "data": {
            "text/plain": [
              "Text(0.5, 1.0, 'Class distributions \\n (0 -> No Glaucoma  1 -> Glaucoma)')"
            ]
          },
          "metadata": {
            "tags": []
          },
          "execution_count": 9
        },
        {
          "output_type": "display_data",
          "data": {
            "image/png": "[encoded data removed]",
            "text/plain": [
              "<Figure size 432x288 with 1 Axes>"
            ]
          },
          "metadata": {
            "tags": [],
            "needs_background": "light"
          }
        }
      ]
    },
    {
      "cell_type": "code",
      "metadata": {
        "id": "3cZfU0vWF1SP",
        "colab": {
          "base_uri": "https://localhost:8080/",
          "height": 495
        },
        "outputId": "41eb48f4-4642-4282-ae18-217c4d15c6a3"
      },
      "source": [
        "import missingno as msno\n",
        "p=msno.bar(glaucoma_data)"
      ],
      "execution_count": null,
      "outputs": [
        {
          "output_type": "display_data",
          "data": {
            "image/png": "[encoded data removed]",
            "text/plain": [
              "<Figure size 1728x720 with 3 Axes>"
            ]
          },
          "metadata": {
            "tags": [],
            "needs_background": "light"
          }
        }
      ]
    },
    {
      "cell_type": "code",
      "metadata": {
        "id": "l9L_bYMEGXZF"
      },
      "source": [
        "from sklearn.preprocessing import StandardScaler\n",
        "sc_X = StandardScaler()\n",
        "X =  pd.DataFrame(sc_X.fit_transform(glaucoma_data.drop([\"class\"],axis = 1),),\n",
        "        columns=['contrast','correlation','energy','entropy','homogenity','sumofsquares','sumaverage',\n",
        "                 'sumvariance','sumentropy','differencevariance','differenceentropy','imcorrelation1',\n",
        "                 'imcorrelation2','acw','tial','tiar'])"
      ],
      "execution_count": null,
      "outputs": []
    },
    {
      "cell_type": "code",
      "metadata": {
        "id": "Bmc1y8yOGmac",
        "colab": {
          "base_uri": "https://localhost:8080/",
          "height": 224
        },
        "outputId": "43bc1e2c-2520-4dd6-e84e-08db5082658c"
      },
      "source": [
        "X.head()"
      ],
      "execution_count": null,
      "outputs": [
        {
          "output_type": "execute_result",
          "data": {
            "text/html": [
              "<div>\n",
              "<style scoped>\n",
              "    .dataframe tbody tr th:only-of-type {\n",
              "        vertical-align: middle;\n",
              "    }\n",
              "\n",
              "    .dataframe tbody tr th {\n",
              "        vertical-align: top;\n",
              "    }\n",
              "\n",
              "    .dataframe thead th {\n",
              "        text-align: right;\n",
              "    }\n",
              "</style>\n",
              "<table border=\"1\" class=\"dataframe\">\n",
              "  <thead>\n",
              "    <tr style=\"text-align: right;\">\n",
              "      <th></th>\n",
              "      <th>contrast</th>\n",
              "      <th>correlation</th>\n",
              "      <th>energy</th>\n",
              "      <th>entropy</th>\n",
              "      <th>homogenity</th>\n",
              "      <th>sumofsquares</th>\n",
              "      <th>sumaverage</th>\n",
              "      <th>sumvariance</th>\n",
              "      <th>sumentropy</th>\n",
              "      <th>differencevariance</th>\n",
              "      <th>differenceentropy</th>\n",
              "      <th>imcorrelation1</th>\n",
              "      <th>imcorrelation2</th>\n",
              "      <th>acw</th>\n",
              "      <th>tial</th>\n",
              "      <th>tiar</th>\n",
              "    </tr>\n",
              "  </thead>\n",
              "  <tbody>\n",
              "    <tr>\n",
              "      <th>0</th>\n",
              "      <td>2.208054</td>\n",
              "      <td>1.978803</td>\n",
              "      <td>-0.846120</td>\n",
              "      <td>1.220580</td>\n",
              "      <td>-1.123197</td>\n",
              "      <td>2.804882</td>\n",
              "      <td>2.037736</td>\n",
              "      <td>2.852105</td>\n",
              "      <td>1.211679</td>\n",
              "      <td>1.799490</td>\n",
              "      <td>1.189587</td>\n",
              "      <td>-1.026633</td>\n",
              "      <td>1.363825</td>\n",
              "      <td>0.538647</td>\n",
              "      <td>0.071527</td>\n",
              "      <td>0.152070</td>\n",
              "    </tr>\n",
              "    <tr>\n",
              "      <th>1</th>\n",
              "      <td>-0.143554</td>\n",
              "      <td>-0.353041</td>\n",
              "      <td>0.038996</td>\n",
              "      <td>-0.075033</td>\n",
              "      <td>0.058790</td>\n",
              "      <td>-0.306613</td>\n",
              "      <td>-0.213308</td>\n",
              "      <td>-0.319972</td>\n",
              "      <td>-0.082434</td>\n",
              "      <td>-0.111484</td>\n",
              "      <td>-0.057141</td>\n",
              "      <td>0.050916</td>\n",
              "      <td>-0.047355</td>\n",
              "      <td>1.178352</td>\n",
              "      <td>-0.247351</td>\n",
              "      <td>-0.018409</td>\n",
              "    </tr>\n",
              "    <tr>\n",
              "      <th>2</th>\n",
              "      <td>2.428958</td>\n",
              "      <td>1.528975</td>\n",
              "      <td>-1.830384</td>\n",
              "      <td>2.046032</td>\n",
              "      <td>-2.039189</td>\n",
              "      <td>2.658946</td>\n",
              "      <td>2.284000</td>\n",
              "      <td>2.676447</td>\n",
              "      <td>2.046937</td>\n",
              "      <td>2.301545</td>\n",
              "      <td>2.031847</td>\n",
              "      <td>0.424184</td>\n",
              "      <td>1.508854</td>\n",
              "      <td>-0.511716</td>\n",
              "      <td>0.029323</td>\n",
              "      <td>0.390470</td>\n",
              "    </tr>\n",
              "    <tr>\n",
              "      <th>3</th>\n",
              "      <td>2.310028</td>\n",
              "      <td>1.060247</td>\n",
              "      <td>-1.789937</td>\n",
              "      <td>1.933758</td>\n",
              "      <td>-1.984058</td>\n",
              "      <td>2.242255</td>\n",
              "      <td>2.174412</td>\n",
              "      <td>2.227733</td>\n",
              "      <td>1.898160</td>\n",
              "      <td>2.200655</td>\n",
              "      <td>1.946652</td>\n",
              "      <td>-0.512594</td>\n",
              "      <td>1.739056</td>\n",
              "      <td>0.168094</td>\n",
              "      <td>-1.490471</td>\n",
              "      <td>-1.334043</td>\n",
              "    </tr>\n",
              "    <tr>\n",
              "      <th>4</th>\n",
              "      <td>0.677003</td>\n",
              "      <td>1.520713</td>\n",
              "      <td>0.606560</td>\n",
              "      <td>-0.276255</td>\n",
              "      <td>0.371700</td>\n",
              "      <td>1.204528</td>\n",
              "      <td>0.610452</td>\n",
              "      <td>1.238546</td>\n",
              "      <td>-0.312020</td>\n",
              "      <td>0.256781</td>\n",
              "      <td>-0.322961</td>\n",
              "      <td>-2.428055</td>\n",
              "      <td>0.562324</td>\n",
              "      <td>-0.452742</td>\n",
              "      <td>1.772531</td>\n",
              "      <td>1.867090</td>\n",
              "    </tr>\n",
              "  </tbody>\n",
              "</table>\n",
              "</div>"
            ],
            "text/plain": [
              "   contrast  correlation    energy  ...       acw      tial      tiar\n",
              "0  2.208054     1.978803 -0.846120  ...  0.538647  0.071527  0.152070\n",
              "1 -0.143554    -0.353041  0.038996  ...  1.178352 -0.247351 -0.018409\n",
              "2  2.428958     1.528975 -1.830384  ... -0.511716  0.029323  0.390470\n",
              "3  2.310028     1.060247 -1.789937  ...  0.168094 -1.490471 -1.334043\n",
              "4  0.677003     1.520713  0.606560  ... -0.452742  1.772531  1.867090\n",
              "\n",
              "[5 rows x 16 columns]"
            ]
          },
          "metadata": {
            "tags": []
          },
          "execution_count": 12
        }
      ]
    },
    {
      "cell_type": "code",
      "metadata": {
        "id": "MLiUY948Goh5"
      },
      "source": [
        "y = glaucoma_data['class']"
      ],
      "execution_count": null,
      "outputs": []
    },
    {
      "cell_type": "code",
      "metadata": {
        "id": "uTZRWslrGqsW"
      },
      "source": [
        "from sklearn.model_selection import train_test_split\n",
        "X_train,X_test,y_train,y_test = train_test_split(X,y,test_size=0.2,random_state=42, stratify=y)"
      ],
      "execution_count": null,
      "outputs": []
    },
    {
      "cell_type": "code",
      "metadata": {
        "id": "BGQjswf3GvGU"
      },
      "source": [
        "from sklearn.neighbors import KNeighborsClassifier\n",
        "\n",
        "\n",
        "test_scores = []\n",
        "train_scores = []\n",
        "\n",
        "for i in range(1,15):\n",
        "\n",
        "    knn = KNeighborsClassifier(i)\n",
        "    knn.fit(X_train,y_train)\n",
        "    \n",
        "    train_scores.append(knn.score(X_train,y_train))\n",
        "    test_scores.append(knn.score(X_test,y_test))"
      ],
      "execution_count": null,
      "outputs": []
    },
    {
      "cell_type": "code",
      "metadata": {
        "id": "lz5o6Gx_GyWA",
        "colab": {
          "base_uri": "https://localhost:8080/",
          "height": 51
        },
        "outputId": "4103bf22-d52b-4a21-b154-9b62c1d2a06a"
      },
      "source": [
        "max_train_score = max(train_scores)\n",
        "train_scores_ind = [i for i, v in enumerate(train_scores) if v == max_train_score]\n",
        "print('Maximum training score = {} % \\nk = {}'.format(max_train_score*100,list(map(lambda x: x+1, train_scores_ind))))"
      ],
      "execution_count": null,
      "outputs": [
        {
          "output_type": "stream",
          "text": [
            "Maximum training score = 100.0 % \n",
            "k = [1]\n"
          ],
          "name": "stdout"
        }
      ]
    },
    {
      "cell_type": "code",
      "metadata": {
        "id": "LKJIhEKzG2Bc",
        "colab": {
          "base_uri": "https://localhost:8080/",
          "height": 51
        },
        "outputId": "a3c25e27-c54f-45dd-dfcc-e3bb9b6c9b74"
      },
      "source": [
        "max_test_score = max(test_scores)\n",
        "test_scores_ind = [i for i, v in enumerate(test_scores) if v == max_test_score]\n",
        "print('Maximum testing score = {} % \\nk = {}'.format(max_test_score*100,list(map(lambda x: x+1, test_scores_ind))))"
      ],
      "execution_count": null,
      "outputs": [
        {
          "output_type": "stream",
          "text": [
            "Maximum testing score = 100.0 % \n",
            "k = [2]\n"
          ],
          "name": "stdout"
        }
      ]
    },
    {
      "cell_type": "code",
      "metadata": {
        "id": "8zNe5aNXHJFv",
        "colab": {
          "base_uri": "https://localhost:8080/",
          "height": 322
        },
        "outputId": "c8a62f3a-45ca-41c5-fde0-54b82d42e40d"
      },
      "source": [
        "plt.figure(figsize=(12,5))\n",
        "p = sns.lineplot(range(1,15),train_scores,marker='+',label='Train Score')\n",
        "p = sns.lineplot(range(1,15),test_scores,marker='o',label='Test Score')"
      ],
      "execution_count": null,
      "outputs": [
        {
          "output_type": "display_data",
          "data": {
            "image/png": "[encoded data removed]",
            "text/plain": [
              "<Figure size 864x360 with 1 Axes>"
            ]
          },
          "metadata": {
            "tags": [],
            "needs_background": "light"
          }
        }
      ]
    },
    {
      "cell_type": "code",
      "metadata": {
        "id": "KgCvyJ5OHaYT",
        "colab": {
          "base_uri": "https://localhost:8080/",
          "height": 34
        },
        "outputId": "2854b9d7-9e85-4d23-b83f-42787d214f26"
      },
      "source": [
        "knn = KNeighborsClassifier(2)\n",
        "\n",
        "knn.fit(X_train,y_train)\n",
        "knn.score(X_test,y_test)"
      ],
      "execution_count": null,
      "outputs": [
        {
          "output_type": "execute_result",
          "data": {
            "text/plain": [
              "1.0"
            ]
          },
          "metadata": {
            "tags": []
          },
          "execution_count": 19
        }
      ]
    },
    {
      "cell_type": "code",
      "metadata": {
        "id": "H66Ikg7LHtqM",
        "colab": {
          "base_uri": "https://localhost:8080/",
          "height": 173
        },
        "outputId": "28e758ff-e304-4ee1-f508-83b9361e57e4"
      },
      "source": [
        "from sklearn.metrics import confusion_matrix\n",
        "#let us get the predictions using the classifier we had fit above\n",
        "y_pred = knn.predict(X_test)\n",
        "confusion_matrix(y_test,y_pred)\n",
        "pd.crosstab(y_test, y_pred, rownames=['True'], colnames=['Predicted'], margins=True)"
      ],
      "execution_count": null,
      "outputs": [
        {
          "output_type": "execute_result",
          "data": {
            "text/html": [
              "<div>\n",
              "<style scoped>\n",
              "    .dataframe tbody tr th:only-of-type {\n",
              "        vertical-align: middle;\n",
              "    }\n",
              "\n",
              "    .dataframe tbody tr th {\n",
              "        vertical-align: top;\n",
              "    }\n",
              "\n",
              "    .dataframe thead th {\n",
              "        text-align: right;\n",
              "    }\n",
              "</style>\n",
              "<table border=\"1\" class=\"dataframe\">\n",
              "  <thead>\n",
              "    <tr style=\"text-align: right;\">\n",
              "      <th>Predicted</th>\n",
              "      <th>0</th>\n",
              "      <th>1</th>\n",
              "      <th>All</th>\n",
              "    </tr>\n",
              "    <tr>\n",
              "      <th>True</th>\n",
              "      <th></th>\n",
              "      <th></th>\n",
              "      <th></th>\n",
              "    </tr>\n",
              "  </thead>\n",
              "  <tbody>\n",
              "    <tr>\n",
              "      <th>0</th>\n",
              "      <td>16</td>\n",
              "      <td>0</td>\n",
              "      <td>16</td>\n",
              "    </tr>\n",
              "    <tr>\n",
              "      <th>1</th>\n",
              "      <td>0</td>\n",
              "      <td>4</td>\n",
              "      <td>4</td>\n",
              "    </tr>\n",
              "    <tr>\n",
              "      <th>All</th>\n",
              "      <td>16</td>\n",
              "      <td>4</td>\n",
              "      <td>20</td>\n",
              "    </tr>\n",
              "  </tbody>\n",
              "</table>\n",
              "</div>"
            ],
            "text/plain": [
              "Predicted   0  1  All\n",
              "True                 \n",
              "0          16  0   16\n",
              "1           0  4    4\n",
              "All        16  4   20"
            ]
          },
          "metadata": {
            "tags": []
          },
          "execution_count": 20
        }
      ]
    },
    {
      "cell_type": "code",
      "metadata": {
        "id": "qWeAd9G0H33j",
        "colab": {
          "base_uri": "https://localhost:8080/",
          "height": 318
        },
        "outputId": "b4d2a3f0-c6e0-4161-8923-a7a2698be693"
      },
      "source": [
        "y_pred = knn.predict(X_test)\n",
        "from sklearn import metrics\n",
        "cnf_matrix = metrics.confusion_matrix(y_test, y_pred)\n",
        "p = sns.heatmap(pd.DataFrame(cnf_matrix), annot=True, cmap=\"YlGnBu\" ,fmt='g')\n",
        "plt.title('Confusion matrix', y=1.1)\n",
        "plt.ylabel('Actual label')\n",
        "plt.xlabel('Predicted label')"
      ],
      "execution_count": null,
      "outputs": [
        {
          "output_type": "execute_result",
          "data": {
            "text/plain": [
              "Text(0.5, 12.5, 'Predicted label')"
            ]
          },
          "metadata": {
            "tags": []
          },
          "execution_count": 21
        },
        {
          "output_type": "display_data",
          "data": {
            "image/png": "[encoded data removed]",
            "text/plain": [
              "<Figure size 432x288 with 2 Axes>"
            ]
          },
          "metadata": {
            "tags": [],
            "needs_background": "light"
          }
        }
      ]
    },
    {
      "cell_type": "code",
      "metadata": {
        "id": "_Kmfj5V3IpXC",
        "colab": {
          "base_uri": "https://localhost:8080/",
          "height": 170
        },
        "outputId": "21510402-f278-4773-9081-271d1a8590dc"
      },
      "source": [
        "from sklearn.metrics import classification_report\n",
        "print(classification_report(y_test,y_pred))"
      ],
      "execution_count": null,
      "outputs": [
        {
          "output_type": "stream",
          "text": [
            "              precision    recall  f1-score   support\n",
            "\n",
            "           0       1.00      1.00      1.00        16\n",
            "           1       1.00      1.00      1.00         4\n",
            "\n",
            "    accuracy                           1.00        20\n",
            "   macro avg       1.00      1.00      1.00        20\n",
            "weighted avg       1.00      1.00      1.00        20\n",
            "\n"
          ],
          "name": "stdout"
        }
      ]
    },
    {
      "cell_type": "code",
      "metadata": {
        "id": "N42-OrwQJQiN"
      },
      "source": [
        "from sklearn.metrics import roc_curve\n",
        "y_pred_proba = knn.predict_proba(X_test)[:,1]\n",
        "fpr, tpr, thresholds = roc_curve(y_test, y_pred_proba)"
      ],
      "execution_count": null,
      "outputs": []
    },
    {
      "cell_type": "code",
      "metadata": {
        "id": "RoVC1ZJBJWYS",
        "colab": {
          "base_uri": "https://localhost:8080/",
          "height": 301
        },
        "outputId": "c034405f-9e2b-471e-b522-e278267b008e"
      },
      "source": [
        "plt.plot([0,1],[0,1],'k--')\n",
        "plt.plot(fpr,tpr, label='Knn')\n",
        "plt.xlabel('fpr')\n",
        "plt.ylabel('tpr')\n",
        "plt.title('Knn(n_neighbors=1) ROC curve')\n",
        "plt.show()"
      ],
      "execution_count": null,
      "outputs": [
        {
          "output_type": "display_data",
          "data": {
            "image/png": "[encoded data removed]",
            "text/plain": [
              "<Figure size 432x288 with 1 Axes>"
            ]
          },
          "metadata": {
            "tags": [],
            "needs_background": "light"
          }
        }
      ]
    },
    {
      "cell_type": "code",
      "metadata": {
        "id": "Q7uoZXD4Jb13",
        "colab": {
          "base_uri": "https://localhost:8080/",
          "height": 34
        },
        "outputId": "b4d06875-724d-4400-a466-ecf60ab7299b"
      },
      "source": [
        "from sklearn.metrics import roc_auc_score\n",
        "roc_auc_score(y_test,y_pred_proba)"
      ],
      "execution_count": null,
      "outputs": [
        {
          "output_type": "execute_result",
          "data": {
            "text/plain": [
              "1.0"
            ]
          },
          "metadata": {
            "tags": []
          },
          "execution_count": 25
        }
      ]
    },
    {
      "cell_type": "code",
      "metadata": {
        "id": "s0VVE_a1Joqr"
      },
      "source": [],
      "execution_count": null,
      "outputs": []
    }
  ]
}