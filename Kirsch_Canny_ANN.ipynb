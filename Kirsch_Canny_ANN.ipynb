{
  "nbformat": 4,
  "nbformat_minor": 0,
  "metadata": {
    "colab": {
      "provenance": []
    },
    "kernelspec": {
      "name": "python3",
      "display_name": "Python 3"
    }
  },
  "cells": [
    {
      "cell_type": "code",
      "metadata": {
        "id": "0bR8vTOSWe6B",
        "colab": {
          "base_uri": "https://localhost:8080/",
          "height": 51
        },
        "outputId": "3801d4f1-b477-4c43-8a84-259d7f472cb0"
      },
      "source": [
        "cd drive/My Drive/Bhavana_Dataset(AGE)/AngleClosureGlaucomaDataset"
      ],
      "execution_count": null,
      "outputs": [
        {
          "output_type": "stream",
          "text": [
            "[Errno 2] No such file or directory: 'drive/My Drive/Bhavana_Dataset(AGE)/AngleClosureGlaucomaDataset'\n",
            "/content/drive/My Drive/Bhavana_Dataset(AGE)/AngleClosureGlaucomaDataset\n"
          ],
          "name": "stdout"
        }
      ]
    },
    {
      "cell_type": "code",
      "metadata": {
        "id": "iJyZf9NrWwjx"
      },
      "source": [
        "import pandas as pd\n",
        "import numpy as np\n",
        "import theano\n",
        "import keras\n",
        "import tensorflow\n",
        "import matplotlib.pyplot as plt\n",
        "import seaborn as sns\n",
        "sns.set()\n",
        "import warnings\n",
        "warnings.filterwarnings('ignore')\n"
      ],
      "execution_count": null,
      "outputs": []
    },
    {
      "cell_type": "code",
      "metadata": {
        "id": "IHiXkldEXgpW"
      },
      "source": [
        "glaucoma_data = pd.read_excel('KirschCanny.xlsx')"
      ],
      "execution_count": null,
      "outputs": []
    },
    {
      "cell_type": "code",
      "metadata": {
        "id": "G1fucI6yX9BD",
        "colab": {
          "base_uri": "https://localhost:8080/",
          "height": 224
        },
        "outputId": "0ec7db2a-10f8-4e81-b32a-ccae5b8dd3f3"
      },
      "source": [
        "glaucoma_data.head()"
      ],
      "execution_count": null,
      "outputs": [
        {
          "output_type": "execute_result",
          "data": {
            "text/html": [
              "<div>\n",
              "<style scoped>\n",
              "    .dataframe tbody tr th:only-of-type {\n",
              "        vertical-align: middle;\n",
              "    }\n",
              "\n",
              "    .dataframe tbody tr th {\n",
              "        vertical-align: top;\n",
              "    }\n",
              "\n",
              "    .dataframe thead th {\n",
              "        text-align: right;\n",
              "    }\n",
              "</style>\n",
              "<table border=\"1\" class=\"dataframe\">\n",
              "  <thead>\n",
              "    <tr style=\"text-align: right;\">\n",
              "      <th></th>\n",
              "      <th>contrast</th>\n",
              "      <th>correlation</th>\n",
              "      <th>energy</th>\n",
              "      <th>entropy</th>\n",
              "      <th>homogenity</th>\n",
              "      <th>sumofsquares</th>\n",
              "      <th>sumaverage</th>\n",
              "      <th>sumvariance</th>\n",
              "      <th>sumentropy</th>\n",
              "      <th>differencevariance</th>\n",
              "      <th>differenceentropy</th>\n",
              "      <th>imcorrelation1</th>\n",
              "      <th>imcorrelation2</th>\n",
              "      <th>acw</th>\n",
              "      <th>tial</th>\n",
              "      <th>tiar</th>\n",
              "      <th>class</th>\n",
              "    </tr>\n",
              "  </thead>\n",
              "  <tbody>\n",
              "    <tr>\n",
              "      <th>0</th>\n",
              "      <td>876696</td>\n",
              "      <td>0.794965</td>\n",
              "      <td>0.782117</td>\n",
              "      <td>0.777659</td>\n",
              "      <td>0.939001</td>\n",
              "      <td>1.007746</td>\n",
              "      <td>2.589055</td>\n",
              "      <td>3.619826</td>\n",
              "      <td>0.634762</td>\n",
              "      <td>0.901523</td>\n",
              "      <td>0.418518</td>\n",
              "      <td>-0.427808</td>\n",
              "      <td>0.587421</td>\n",
              "      <td>12.417210</td>\n",
              "      <td>50.713104</td>\n",
              "      <td>54.625850</td>\n",
              "      <td>0</td>\n",
              "    </tr>\n",
              "    <tr>\n",
              "      <th>1</th>\n",
              "      <td>652866</td>\n",
              "      <td>0.749120</td>\n",
              "      <td>0.800315</td>\n",
              "      <td>0.689011</td>\n",
              "      <td>0.946135</td>\n",
              "      <td>0.613324</td>\n",
              "      <td>2.430883</td>\n",
              "      <td>2.163636</td>\n",
              "      <td>0.565350</td>\n",
              "      <td>0.728602</td>\n",
              "      <td>0.377648</td>\n",
              "      <td>-0.414564</td>\n",
              "      <td>0.550048</td>\n",
              "      <td>12.766860</td>\n",
              "      <td>44.209367</td>\n",
              "      <td>51.189105</td>\n",
              "      <td>0</td>\n",
              "    </tr>\n",
              "    <tr>\n",
              "      <th>2</th>\n",
              "      <td>897722</td>\n",
              "      <td>0.786121</td>\n",
              "      <td>0.761881</td>\n",
              "      <td>0.834138</td>\n",
              "      <td>0.933473</td>\n",
              "      <td>0.989247</td>\n",
              "      <td>2.606359</td>\n",
              "      <td>3.539188</td>\n",
              "      <td>0.679562</td>\n",
              "      <td>0.946953</td>\n",
              "      <td>0.446129</td>\n",
              "      <td>-0.409976</td>\n",
              "      <td>0.591262</td>\n",
              "      <td>11.843102</td>\n",
              "      <td>49.852332</td>\n",
              "      <td>59.431839</td>\n",
              "      <td>0</td>\n",
              "    </tr>\n",
              "    <tr>\n",
              "      <th>3</th>\n",
              "      <td>886402</td>\n",
              "      <td>0.776906</td>\n",
              "      <td>0.762713</td>\n",
              "      <td>0.826456</td>\n",
              "      <td>0.933806</td>\n",
              "      <td>0.936426</td>\n",
              "      <td>2.598658</td>\n",
              "      <td>3.333199</td>\n",
              "      <td>0.671582</td>\n",
              "      <td>0.937824</td>\n",
              "      <td>0.443336</td>\n",
              "      <td>-0.421490</td>\n",
              "      <td>0.597358</td>\n",
              "      <td>12.214673</td>\n",
              "      <td>18.855062</td>\n",
              "      <td>24.666811</td>\n",
              "      <td>1</td>\n",
              "    </tr>\n",
              "    <tr>\n",
              "      <th>4</th>\n",
              "      <td>730968</td>\n",
              "      <td>0.785959</td>\n",
              "      <td>0.811984</td>\n",
              "      <td>0.675243</td>\n",
              "      <td>0.948024</td>\n",
              "      <td>0.804881</td>\n",
              "      <td>2.488765</td>\n",
              "      <td>2.879097</td>\n",
              "      <td>0.553036</td>\n",
              "      <td>0.761926</td>\n",
              "      <td>0.368934</td>\n",
              "      <td>-0.445033</td>\n",
              "      <td>0.566195</td>\n",
              "      <td>11.875336</td>\n",
              "      <td>85.406289</td>\n",
              "      <td>89.199509</td>\n",
              "      <td>0</td>\n",
              "    </tr>\n",
              "  </tbody>\n",
              "</table>\n",
              "</div>"
            ],
            "text/plain": [
              "   contrast  correlation    energy  ...       tial       tiar  class\n",
              "0    876696     0.794965  0.782117  ...  50.713104  54.625850      0\n",
              "1    652866     0.749120  0.800315  ...  44.209367  51.189105      0\n",
              "2    897722     0.786121  0.761881  ...  49.852332  59.431839      0\n",
              "3    886402     0.776906  0.762713  ...  18.855062  24.666811      1\n",
              "4    730968     0.785959  0.811984  ...  85.406289  89.199509      0\n",
              "\n",
              "[5 rows x 17 columns]"
            ]
          },
          "metadata": {
            "tags": []
          },
          "execution_count": 30
        }
      ]
    },
    {
      "cell_type": "code",
      "metadata": {
        "id": "t1rUb6hZYDcO",
        "colab": {
          "base_uri": "https://localhost:8080/",
          "height": 425
        },
        "outputId": "ff4220ce-12cc-4f78-bcf9-ce101b8b5d13"
      },
      "source": [
        "glaucoma_data.info(verbose=True)"
      ],
      "execution_count": null,
      "outputs": [
        {
          "output_type": "stream",
          "text": [
            "<class 'pandas.core.frame.DataFrame'>\n",
            "RangeIndex: 100 entries, 0 to 99\n",
            "Data columns (total 17 columns):\n",
            " #   Column              Non-Null Count  Dtype  \n",
            "---  ------              --------------  -----  \n",
            " 0   contrast            100 non-null    int64  \n",
            " 1   correlation         100 non-null    float64\n",
            " 2   energy              100 non-null    float64\n",
            " 3   entropy             100 non-null    float64\n",
            " 4   homogenity          100 non-null    float64\n",
            " 5   sumofsquares        100 non-null    float64\n",
            " 6   sumaverage          100 non-null    float64\n",
            " 7   sumvariance         100 non-null    float64\n",
            " 8   sumentropy          100 non-null    float64\n",
            " 9   differencevariance  100 non-null    float64\n",
            " 10  differenceentropy   100 non-null    float64\n",
            " 11  imcorrelation1      100 non-null    float64\n",
            " 12  imcorrelation2      100 non-null    float64\n",
            " 13  acw                 100 non-null    float64\n",
            " 14  tial                100 non-null    float64\n",
            " 15  tiar                100 non-null    float64\n",
            " 16  class               100 non-null    int64  \n",
            "dtypes: float64(15), int64(2)\n",
            "memory usage: 13.4 KB\n"
          ],
          "name": "stdout"
        }
      ]
    },
    {
      "cell_type": "code",
      "metadata": {
        "id": "IGXkh4__YJ65",
        "colab": {
          "base_uri": "https://localhost:8080/",
          "height": 317
        },
        "outputId": "403edb87-4eb8-4b72-d661-db3122dbc2e5"
      },
      "source": [
        "glaucoma_data.describe()"
      ],
      "execution_count": null,
      "outputs": [
        {
          "output_type": "execute_result",
          "data": {
            "text/html": [
              "<div>\n",
              "<style scoped>\n",
              "    .dataframe tbody tr th:only-of-type {\n",
              "        vertical-align: middle;\n",
              "    }\n",
              "\n",
              "    .dataframe tbody tr th {\n",
              "        vertical-align: top;\n",
              "    }\n",
              "\n",
              "    .dataframe thead th {\n",
              "        text-align: right;\n",
              "    }\n",
              "</style>\n",
              "<table border=\"1\" class=\"dataframe\">\n",
              "  <thead>\n",
              "    <tr style=\"text-align: right;\">\n",
              "      <th></th>\n",
              "      <th>contrast</th>\n",
              "      <th>correlation</th>\n",
              "      <th>energy</th>\n",
              "      <th>entropy</th>\n",
              "      <th>homogenity</th>\n",
              "      <th>sumofsquares</th>\n",
              "      <th>sumaverage</th>\n",
              "      <th>sumvariance</th>\n",
              "      <th>sumentropy</th>\n",
              "      <th>differencevariance</th>\n",
              "      <th>differenceentropy</th>\n",
              "      <th>imcorrelation1</th>\n",
              "      <th>imcorrelation2</th>\n",
              "      <th>acw</th>\n",
              "      <th>tial</th>\n",
              "      <th>tiar</th>\n",
              "      <th>class</th>\n",
              "    </tr>\n",
              "  </thead>\n",
              "  <tbody>\n",
              "    <tr>\n",
              "      <th>count</th>\n",
              "      <td>100.000000</td>\n",
              "      <td>100.000000</td>\n",
              "      <td>100.000000</td>\n",
              "      <td>100.000000</td>\n",
              "      <td>100.000000</td>\n",
              "      <td>100.000000</td>\n",
              "      <td>100.000000</td>\n",
              "      <td>100.000000</td>\n",
              "      <td>100.000000</td>\n",
              "      <td>100.000000</td>\n",
              "      <td>100.000000</td>\n",
              "      <td>100.000000</td>\n",
              "      <td>100.000000</td>\n",
              "      <td>100.000000</td>\n",
              "      <td>100.000000</td>\n",
              "      <td>100.000000</td>\n",
              "      <td>100.000000</td>\n",
              "    </tr>\n",
              "    <tr>\n",
              "      <th>mean</th>\n",
              "      <td>666529.670000</td>\n",
              "      <td>0.756061</td>\n",
              "      <td>0.799514</td>\n",
              "      <td>0.694145</td>\n",
              "      <td>0.945780</td>\n",
              "      <td>0.652191</td>\n",
              "      <td>2.445871</td>\n",
              "      <td>2.310524</td>\n",
              "      <td>0.569772</td>\n",
              "      <td>0.738690</td>\n",
              "      <td>0.379521</td>\n",
              "      <td>-0.415190</td>\n",
              "      <td>0.551302</td>\n",
              "      <td>12.122796</td>\n",
              "      <td>49.254270</td>\n",
              "      <td>51.560224</td>\n",
              "      <td>0.200000</td>\n",
              "    </tr>\n",
              "    <tr>\n",
              "      <th>std</th>\n",
              "      <td>95661.195789</td>\n",
              "      <td>0.019759</td>\n",
              "      <td>0.020663</td>\n",
              "      <td>0.068767</td>\n",
              "      <td>0.006066</td>\n",
              "      <td>0.127402</td>\n",
              "      <td>0.070620</td>\n",
              "      <td>0.461378</td>\n",
              "      <td>0.053907</td>\n",
              "      <td>0.090944</td>\n",
              "      <td>0.032947</td>\n",
              "      <td>0.012353</td>\n",
              "      <td>0.026617</td>\n",
              "      <td>0.549334</td>\n",
              "      <td>20.498450</td>\n",
              "      <td>20.260891</td>\n",
              "      <td>0.402015</td>\n",
              "    </tr>\n",
              "    <tr>\n",
              "      <th>min</th>\n",
              "      <td>393740.000000</td>\n",
              "      <td>0.640419</td>\n",
              "      <td>0.757594</td>\n",
              "      <td>0.499679</td>\n",
              "      <td>0.933473</td>\n",
              "      <td>0.258072</td>\n",
              "      <td>2.240608</td>\n",
              "      <td>0.891565</td>\n",
              "      <td>0.415608</td>\n",
              "      <td>0.503967</td>\n",
              "      <td>0.283596</td>\n",
              "      <td>-0.445033</td>\n",
              "      <td>0.440140</td>\n",
              "      <td>10.761774</td>\n",
              "      <td>0.985500</td>\n",
              "      <td>0.572960</td>\n",
              "      <td>0.000000</td>\n",
              "    </tr>\n",
              "    <tr>\n",
              "      <th>25%</th>\n",
              "      <td>610415.000000</td>\n",
              "      <td>0.747098</td>\n",
              "      <td>0.784054</td>\n",
              "      <td>0.649701</td>\n",
              "      <td>0.941690</td>\n",
              "      <td>0.588962</td>\n",
              "      <td>2.408225</td>\n",
              "      <td>2.076883</td>\n",
              "      <td>0.534517</td>\n",
              "      <td>0.685544</td>\n",
              "      <td>0.358715</td>\n",
              "      <td>-0.421000</td>\n",
              "      <td>0.538571</td>\n",
              "      <td>11.781769</td>\n",
              "      <td>35.188662</td>\n",
              "      <td>37.351593</td>\n",
              "      <td>0.000000</td>\n",
              "    </tr>\n",
              "    <tr>\n",
              "      <th>50%</th>\n",
              "      <td>669797.000000</td>\n",
              "      <td>0.756226</td>\n",
              "      <td>0.799954</td>\n",
              "      <td>0.692164</td>\n",
              "      <td>0.945748</td>\n",
              "      <td>0.652899</td>\n",
              "      <td>2.443991</td>\n",
              "      <td>2.313808</td>\n",
              "      <td>0.567808</td>\n",
              "      <td>0.742476</td>\n",
              "      <td>0.380520</td>\n",
              "      <td>-0.415551</td>\n",
              "      <td>0.553350</td>\n",
              "      <td>12.116464</td>\n",
              "      <td>49.732319</td>\n",
              "      <td>53.747425</td>\n",
              "      <td>0.000000</td>\n",
              "    </tr>\n",
              "    <tr>\n",
              "      <th>75%</th>\n",
              "      <td>726834.500000</td>\n",
              "      <td>0.768581</td>\n",
              "      <td>0.813303</td>\n",
              "      <td>0.741979</td>\n",
              "      <td>0.949630</td>\n",
              "      <td>0.720561</td>\n",
              "      <td>2.487609</td>\n",
              "      <td>2.543519</td>\n",
              "      <td>0.607297</td>\n",
              "      <td>0.802492</td>\n",
              "      <td>0.401437</td>\n",
              "      <td>-0.410316</td>\n",
              "      <td>0.568584</td>\n",
              "      <td>12.441141</td>\n",
              "      <td>63.138057</td>\n",
              "      <td>65.783244</td>\n",
              "      <td>0.000000</td>\n",
              "    </tr>\n",
              "    <tr>\n",
              "      <th>max</th>\n",
              "      <td>897722.000000</td>\n",
              "      <td>0.800875</td>\n",
              "      <td>0.859498</td>\n",
              "      <td>0.841082</td>\n",
              "      <td>0.962797</td>\n",
              "      <td>1.008939</td>\n",
              "      <td>2.634708</td>\n",
              "      <td>3.636580</td>\n",
              "      <td>0.686019</td>\n",
              "      <td>0.946953</td>\n",
              "      <td>0.446129</td>\n",
              "      <td>-0.331118</td>\n",
              "      <td>0.613779</td>\n",
              "      <td>14.212093</td>\n",
              "      <td>97.945941</td>\n",
              "      <td>99.290512</td>\n",
              "      <td>1.000000</td>\n",
              "    </tr>\n",
              "  </tbody>\n",
              "</table>\n",
              "</div>"
            ],
            "text/plain": [
              "            contrast  correlation  ...        tiar       class\n",
              "count     100.000000   100.000000  ...  100.000000  100.000000\n",
              "mean   666529.670000     0.756061  ...   51.560224    0.200000\n",
              "std     95661.195789     0.019759  ...   20.260891    0.402015\n",
              "min    393740.000000     0.640419  ...    0.572960    0.000000\n",
              "25%    610415.000000     0.747098  ...   37.351593    0.000000\n",
              "50%    669797.000000     0.756226  ...   53.747425    0.000000\n",
              "75%    726834.500000     0.768581  ...   65.783244    0.000000\n",
              "max    897722.000000     0.800875  ...   99.290512    1.000000\n",
              "\n",
              "[8 rows x 17 columns]"
            ]
          },
          "metadata": {
            "tags": []
          },
          "execution_count": 32
        }
      ]
    },
    {
      "cell_type": "code",
      "metadata": {
        "id": "SaudJO_8YN7p",
        "colab": {
          "base_uri": "https://localhost:8080/",
          "height": 34
        },
        "outputId": "5f8fef39-07bb-4ba8-e1f3-94b3f570d5e3"
      },
      "source": [
        "glaucoma_data.shape"
      ],
      "execution_count": null,
      "outputs": [
        {
          "output_type": "execute_result",
          "data": {
            "text/plain": [
              "(100, 17)"
            ]
          },
          "metadata": {
            "tags": []
          },
          "execution_count": 33
        }
      ]
    },
    {
      "cell_type": "code",
      "metadata": {
        "id": "gcIPD7fTYdzE",
        "colab": {
          "base_uri": "https://localhost:8080/",
          "height": 335
        },
        "outputId": "32b43cbd-74fc-49ad-a01a-9c95b8c67f02"
      },
      "source": [
        "colors = [\"#11111F\", \"#1F0101\"]\n",
        "sns.countplot('class', data=glaucoma_data, palette=colors)\n",
        "plt.title('Class distributions \\n (0 -> No Glaucoma  1 -> Glaucoma)', fontsize=14)"
      ],
      "execution_count": null,
      "outputs": [
        {
          "output_type": "execute_result",
          "data": {
            "text/plain": [
              "Text(0.5, 1.0, 'Class distributions \\n (0 -> No Glaucoma  1 -> Glaucoma)')"
            ]
          },
          "metadata": {
            "tags": []
          },
          "execution_count": 34
        },
        {
          "output_type": "display_data",
          "data": {
            "image/png": "[encoded data removed]",
            "text/plain": [
              "<Figure size 432x288 with 1 Axes>"
            ]
          },
          "metadata": {
            "tags": []
          }
        }
      ]
    },
    {
      "cell_type": "code",
      "metadata": {
        "id": "j0AL5PRfYsV-"
      },
      "source": [
        "X = glaucoma_data.drop(['class'],axis=1)\n",
        "y = glaucoma_data['class']"
      ],
      "execution_count": null,
      "outputs": []
    },
    {
      "cell_type": "code",
      "metadata": {
        "id": "_77Frj4eY3Ip"
      },
      "source": [
        "from sklearn.model_selection import train_test_split\n",
        "X_train, X_test, y_train, y_test = train_test_split(X, y, test_size = 0.2, random_state = 0)"
      ],
      "execution_count": null,
      "outputs": []
    },
    {
      "cell_type": "code",
      "metadata": {
        "id": "9oxp5fTFZCFR"
      },
      "source": [
        "from sklearn.preprocessing import StandardScaler\n",
        "sc = StandardScaler()\n",
        "X_train = sc.fit_transform(X_train)\n",
        "X_test = sc.transform(X_test)"
      ],
      "execution_count": null,
      "outputs": []
    },
    {
      "cell_type": "code",
      "metadata": {
        "id": "nECRG204ZMvz"
      },
      "source": [
        "from keras.models import Sequential\n",
        "from keras.layers import Dense, Dropout"
      ],
      "execution_count": null,
      "outputs": []
    },
    {
      "cell_type": "code",
      "metadata": {
        "id": "DelGdE7iZYM1"
      },
      "source": [
        "classifier = Sequential()"
      ],
      "execution_count": null,
      "outputs": []
    },
    {
      "cell_type": "code",
      "metadata": {
        "id": "8Q4TVO3wZbzt"
      },
      "source": [
        "classifier.add(Dense(units = 6, kernel_initializer = 'uniform', activation = 'relu', input_dim = 16))\n",
        "classifier.add(Dropout(p=0.1))"
      ],
      "execution_count": null,
      "outputs": []
    },
    {
      "cell_type": "code",
      "metadata": {
        "id": "HpuT5s3YZ66v"
      },
      "source": [
        "classifier.add(Dense(units = 6, kernel_initializer = 'uniform', activation = 'relu'))\n",
        "classifier.add(Dropout(p=0.1))"
      ],
      "execution_count": null,
      "outputs": []
    },
    {
      "cell_type": "code",
      "metadata": {
        "id": "qZrySCLnaF_c"
      },
      "source": [
        "classifier.add(Dense(units = 1, kernel_initializer = 'uniform', activation = 'sigmoid'))\n"
      ],
      "execution_count": null,
      "outputs": []
    },
    {
      "cell_type": "code",
      "metadata": {
        "id": "VXIAYhZYaLcW"
      },
      "source": [
        "classifier.compile(optimizer = 'adam', loss = 'binary_crossentropy', metrics = ['accuracy'])"
      ],
      "execution_count": null,
      "outputs": []
    },
    {
      "cell_type": "code",
      "metadata": {
        "id": "WmLFJ16waWJ-",
        "colab": {
          "base_uri": "https://localhost:8080/",
          "height": 1000
        },
        "outputId": "0ece7137-9e2b-4b67-bef7-f1e492064df8"
      },
      "source": [
        "#classifier.fit(X_train, y_train, batch_size = 10, epochs = 100,verbose = 0)\n",
        "classifier.fit(X_train, y_train, batch_size=10, nb_epoch=100)\n",
        "#score, acc = classifier.evaluate(X_train, y_train,\n",
        " #                           batch_size=10)\n",
        "#print('Train score:', score)\n",
        "#print('Train accuracy:', acc)"
      ],
      "execution_count": null,
      "outputs": [
        {
          "output_type": "stream",
          "text": [
            "Epoch 1/100\n",
            "80/80 [==============================] - 0s 2ms/step - loss: 0.6922 - accuracy: 0.7500\n",
            "Epoch 2/100\n",
            "80/80 [==============================] - 0s 297us/step - loss: 0.6897 - accuracy: 0.8000\n",
            "Epoch 3/100\n",
            "80/80 [==============================] - 0s 335us/step - loss: 0.6869 - accuracy: 0.8000\n",
            "Epoch 4/100\n",
            "80/80 [==============================] - 0s 200us/step - loss: 0.6841 - accuracy: 0.8000\n",
            "Epoch 5/100\n",
            "80/80 [==============================] - 0s 175us/step - loss: 0.6808 - accuracy: 0.8000\n",
            "Epoch 6/100\n",
            "80/80 [==============================] - 0s 173us/step - loss: 0.6768 - accuracy: 0.8000\n",
            "Epoch 7/100\n",
            "80/80 [==============================] - 0s 164us/step - loss: 0.6725 - accuracy: 0.8000\n",
            "Epoch 8/100\n",
            "80/80 [==============================] - 0s 169us/step - loss: 0.6677 - accuracy: 0.8000\n",
            "Epoch 9/100\n",
            "80/80 [==============================] - 0s 170us/step - loss: 0.6612 - accuracy: 0.8000\n",
            "Epoch 10/100\n",
            "80/80 [==============================] - 0s 181us/step - loss: 0.6549 - accuracy: 0.8000\n",
            "Epoch 11/100\n",
            "80/80 [==============================] - 0s 161us/step - loss: 0.6478 - accuracy: 0.8000\n",
            "Epoch 12/100\n",
            "80/80 [==============================] - 0s 167us/step - loss: 0.6370 - accuracy: 0.8000\n",
            "Epoch 13/100\n",
            "80/80 [==============================] - 0s 187us/step - loss: 0.6251 - accuracy: 0.8000\n",
            "Epoch 14/100\n",
            "80/80 [==============================] - 0s 190us/step - loss: 0.6156 - accuracy: 0.8000\n",
            "Epoch 15/100\n",
            "80/80 [==============================] - 0s 233us/step - loss: 0.6030 - accuracy: 0.8000\n",
            "Epoch 16/100\n",
            "80/80 [==============================] - 0s 197us/step - loss: 0.5890 - accuracy: 0.8000\n",
            "Epoch 17/100\n",
            "80/80 [==============================] - 0s 189us/step - loss: 0.5777 - accuracy: 0.8000\n",
            "Epoch 18/100\n",
            "80/80 [==============================] - 0s 367us/step - loss: 0.5601 - accuracy: 0.8000\n",
            "Epoch 19/100\n",
            "80/80 [==============================] - 0s 170us/step - loss: 0.5465 - accuracy: 0.8000\n",
            "Epoch 20/100\n",
            "80/80 [==============================] - 0s 240us/step - loss: 0.5232 - accuracy: 0.8125\n",
            "Epoch 21/100\n",
            "80/80 [==============================] - 0s 171us/step - loss: 0.5102 - accuracy: 0.8125\n",
            "Epoch 22/100\n",
            "80/80 [==============================] - 0s 196us/step - loss: 0.5000 - accuracy: 0.8500\n",
            "Epoch 23/100\n",
            "80/80 [==============================] - 0s 173us/step - loss: 0.5070 - accuracy: 0.8500\n",
            "Epoch 24/100\n",
            "80/80 [==============================] - 0s 255us/step - loss: 0.4788 - accuracy: 0.8500\n",
            "Epoch 25/100\n",
            "80/80 [==============================] - 0s 194us/step - loss: 0.4755 - accuracy: 0.8625\n",
            "Epoch 26/100\n",
            "80/80 [==============================] - 0s 210us/step - loss: 0.4598 - accuracy: 0.8750\n",
            "Epoch 27/100\n",
            "80/80 [==============================] - 0s 157us/step - loss: 0.4465 - accuracy: 0.9000\n",
            "Epoch 28/100\n",
            "80/80 [==============================] - 0s 167us/step - loss: 0.4397 - accuracy: 0.9000\n",
            "Epoch 29/100\n",
            "80/80 [==============================] - 0s 170us/step - loss: 0.4339 - accuracy: 0.8875\n",
            "Epoch 30/100\n",
            "80/80 [==============================] - 0s 182us/step - loss: 0.4281 - accuracy: 0.9125\n",
            "Epoch 31/100\n",
            "80/80 [==============================] - 0s 185us/step - loss: 0.4115 - accuracy: 0.9375\n",
            "Epoch 32/100\n",
            "80/80 [==============================] - 0s 207us/step - loss: 0.3997 - accuracy: 0.9375\n",
            "Epoch 33/100\n",
            "80/80 [==============================] - 0s 195us/step - loss: 0.3964 - accuracy: 0.9500\n",
            "Epoch 34/100\n",
            "80/80 [==============================] - 0s 201us/step - loss: 0.3880 - accuracy: 0.9250\n",
            "Epoch 35/100\n",
            "80/80 [==============================] - 0s 181us/step - loss: 0.3875 - accuracy: 0.9250\n",
            "Epoch 36/100\n",
            "80/80 [==============================] - 0s 182us/step - loss: 0.3889 - accuracy: 0.9000\n",
            "Epoch 37/100\n",
            "80/80 [==============================] - 0s 171us/step - loss: 0.3732 - accuracy: 0.9500\n",
            "Epoch 38/100\n",
            "80/80 [==============================] - 0s 170us/step - loss: 0.3449 - accuracy: 0.9375\n",
            "Epoch 39/100\n",
            "80/80 [==============================] - 0s 184us/step - loss: 0.3678 - accuracy: 0.9000\n",
            "Epoch 40/100\n",
            "80/80 [==============================] - 0s 183us/step - loss: 0.3840 - accuracy: 0.9125\n",
            "Epoch 41/100\n",
            "80/80 [==============================] - 0s 188us/step - loss: 0.3492 - accuracy: 0.9250\n",
            "Epoch 42/100\n",
            "80/80 [==============================] - 0s 202us/step - loss: 0.3172 - accuracy: 0.9250\n",
            "Epoch 43/100\n",
            "80/80 [==============================] - 0s 209us/step - loss: 0.3360 - accuracy: 0.9625\n",
            "Epoch 44/100\n",
            "80/80 [==============================] - 0s 154us/step - loss: 0.3099 - accuracy: 0.9500\n",
            "Epoch 45/100\n",
            "80/80 [==============================] - 0s 176us/step - loss: 0.2937 - accuracy: 0.9375\n",
            "Epoch 46/100\n",
            "80/80 [==============================] - 0s 167us/step - loss: 0.3058 - accuracy: 0.9500\n",
            "Epoch 47/100\n",
            "80/80 [==============================] - 0s 216us/step - loss: 0.3116 - accuracy: 0.9250\n",
            "Epoch 48/100\n",
            "80/80 [==============================] - 0s 229us/step - loss: 0.2733 - accuracy: 0.9375\n",
            "Epoch 49/100\n",
            "80/80 [==============================] - 0s 219us/step - loss: 0.2896 - accuracy: 0.9250\n",
            "Epoch 50/100\n",
            "80/80 [==============================] - 0s 192us/step - loss: 0.2663 - accuracy: 0.9500\n",
            "Epoch 51/100\n",
            "80/80 [==============================] - 0s 204us/step - loss: 0.2501 - accuracy: 0.9750\n",
            "Epoch 52/100\n",
            "80/80 [==============================] - 0s 196us/step - loss: 0.2636 - accuracy: 0.9500\n",
            "Epoch 53/100\n",
            "80/80 [==============================] - 0s 216us/step - loss: 0.2641 - accuracy: 0.9750\n",
            "Epoch 54/100\n",
            "80/80 [==============================] - 0s 204us/step - loss: 0.2501 - accuracy: 0.9375\n",
            "Epoch 55/100\n",
            "80/80 [==============================] - 0s 176us/step - loss: 0.2228 - accuracy: 0.9500\n",
            "Epoch 56/100\n",
            "80/80 [==============================] - 0s 179us/step - loss: 0.2435 - accuracy: 0.9625\n",
            "Epoch 57/100\n",
            "80/80 [==============================] - 0s 204us/step - loss: 0.2290 - accuracy: 0.9500\n",
            "Epoch 58/100\n",
            "80/80 [==============================] - 0s 193us/step - loss: 0.2201 - accuracy: 0.9375\n",
            "Epoch 59/100\n",
            "80/80 [==============================] - 0s 182us/step - loss: 0.2302 - accuracy: 0.9625\n",
            "Epoch 60/100\n",
            "80/80 [==============================] - 0s 191us/step - loss: 0.2188 - accuracy: 0.9625\n",
            "Epoch 61/100\n",
            "80/80 [==============================] - 0s 178us/step - loss: 0.1981 - accuracy: 0.9750\n",
            "Epoch 62/100\n",
            "80/80 [==============================] - 0s 280us/step - loss: 0.2251 - accuracy: 0.9625\n",
            "Epoch 63/100\n",
            "80/80 [==============================] - 0s 170us/step - loss: 0.2019 - accuracy: 0.9500\n",
            "Epoch 64/100\n",
            "80/80 [==============================] - 0s 166us/step - loss: 0.2048 - accuracy: 0.9750\n",
            "Epoch 65/100\n",
            "80/80 [==============================] - 0s 182us/step - loss: 0.1892 - accuracy: 1.0000\n",
            "Epoch 66/100\n",
            "80/80 [==============================] - 0s 173us/step - loss: 0.2036 - accuracy: 0.9500\n",
            "Epoch 67/100\n",
            "80/80 [==============================] - 0s 194us/step - loss: 0.1834 - accuracy: 0.9750\n",
            "Epoch 68/100\n",
            "80/80 [==============================] - 0s 215us/step - loss: 0.1782 - accuracy: 0.9750\n",
            "Epoch 69/100\n",
            "80/80 [==============================] - 0s 203us/step - loss: 0.1909 - accuracy: 0.9750\n",
            "Epoch 70/100\n",
            "80/80 [==============================] - 0s 215us/step - loss: 0.1764 - accuracy: 0.9875\n",
            "Epoch 71/100\n",
            "80/80 [==============================] - 0s 205us/step - loss: 0.1851 - accuracy: 0.9875\n",
            "Epoch 72/100\n",
            "80/80 [==============================] - 0s 219us/step - loss: 0.1635 - accuracy: 0.9875\n",
            "Epoch 73/100\n",
            "80/80 [==============================] - 0s 199us/step - loss: 0.1663 - accuracy: 0.9750\n",
            "Epoch 74/100\n",
            "80/80 [==============================] - 0s 193us/step - loss: 0.1672 - accuracy: 0.9750\n",
            "Epoch 75/100\n",
            "80/80 [==============================] - 0s 172us/step - loss: 0.1602 - accuracy: 0.9750\n",
            "Epoch 76/100\n",
            "80/80 [==============================] - 0s 203us/step - loss: 0.1492 - accuracy: 1.0000\n",
            "Epoch 77/100\n",
            "80/80 [==============================] - 0s 169us/step - loss: 0.1694 - accuracy: 0.9625\n",
            "Epoch 78/100\n",
            "80/80 [==============================] - 0s 213us/step - loss: 0.1506 - accuracy: 0.9750\n",
            "Epoch 79/100\n",
            "80/80 [==============================] - 0s 173us/step - loss: 0.1713 - accuracy: 0.9625\n",
            "Epoch 80/100\n",
            "80/80 [==============================] - 0s 180us/step - loss: 0.1528 - accuracy: 0.9750\n",
            "Epoch 81/100\n",
            "80/80 [==============================] - 0s 175us/step - loss: 0.1552 - accuracy: 0.9750\n",
            "Epoch 82/100\n",
            "80/80 [==============================] - 0s 166us/step - loss: 0.1490 - accuracy: 0.9750\n",
            "Epoch 83/100\n",
            "80/80 [==============================] - 0s 178us/step - loss: 0.1364 - accuracy: 0.9875\n",
            "Epoch 84/100\n",
            "80/80 [==============================] - 0s 199us/step - loss: 0.1238 - accuracy: 0.9875\n",
            "Epoch 85/100\n",
            "80/80 [==============================] - 0s 168us/step - loss: 0.1414 - accuracy: 0.9750\n",
            "Epoch 86/100\n",
            "80/80 [==============================] - 0s 167us/step - loss: 0.1284 - accuracy: 0.9875\n",
            "Epoch 87/100\n",
            "80/80 [==============================] - 0s 159us/step - loss: 0.1364 - accuracy: 0.9625\n",
            "Epoch 88/100\n",
            "80/80 [==============================] - 0s 174us/step - loss: 0.1479 - accuracy: 0.9875\n",
            "Epoch 89/100\n",
            "80/80 [==============================] - 0s 169us/step - loss: 0.1270 - accuracy: 0.9875\n",
            "Epoch 90/100\n",
            "80/80 [==============================] - 0s 197us/step - loss: 0.1350 - accuracy: 0.9875\n",
            "Epoch 91/100\n",
            "80/80 [==============================] - 0s 159us/step - loss: 0.1530 - accuracy: 0.9750\n",
            "Epoch 92/100\n",
            "80/80 [==============================] - 0s 175us/step - loss: 0.1269 - accuracy: 0.9750\n",
            "Epoch 93/100\n",
            "80/80 [==============================] - 0s 165us/step - loss: 0.1304 - accuracy: 0.9875\n",
            "Epoch 94/100\n",
            "80/80 [==============================] - 0s 209us/step - loss: 0.1169 - accuracy: 0.9875\n",
            "Epoch 95/100\n",
            "80/80 [==============================] - 0s 189us/step - loss: 0.1233 - accuracy: 0.9875\n",
            "Epoch 96/100\n",
            "80/80 [==============================] - 0s 182us/step - loss: 0.1222 - accuracy: 0.9750\n",
            "Epoch 97/100\n",
            "80/80 [==============================] - 0s 184us/step - loss: 0.1109 - accuracy: 0.9875\n",
            "Epoch 98/100\n",
            "80/80 [==============================] - 0s 181us/step - loss: 0.0944 - accuracy: 1.0000\n",
            "Epoch 99/100\n",
            "80/80 [==============================] - 0s 198us/step - loss: 0.1110 - accuracy: 1.0000\n",
            "Epoch 100/100\n",
            "80/80 [==============================] - 0s 312us/step - loss: 0.1037 - accuracy: 1.0000\n"
          ],
          "name": "stdout"
        },
        {
          "output_type": "execute_result",
          "data": {
            "text/plain": [
              "<keras.callbacks.callbacks.History at 0x7f6069ec2ef0>"
            ]
          },
          "metadata": {
            "tags": []
          },
          "execution_count": 44
        }
      ]
    },
    {
      "cell_type": "code",
      "metadata": {
        "id": "IzYOnlLsapAe"
      },
      "source": [
        "y_pred = classifier.predict(X_test)\n",
        "y_pred = (y_pred > 0.5)\n"
      ],
      "execution_count": null,
      "outputs": []
    },
    {
      "cell_type": "code",
      "metadata": {
        "id": "40AZrmgLa8ds"
      },
      "source": [
        "#score, acc = classifier.evaluate(X_test, y_test,\n",
        " #                           batch_size=10)\n",
        "#print('Test score:', score)\n",
        "#print('Test accuracy:', acc)"
      ],
      "execution_count": null,
      "outputs": []
    },
    {
      "cell_type": "code",
      "metadata": {
        "id": "J3kffmh5bBpT"
      },
      "source": [
        "from sklearn.metrics import confusion_matrix\n",
        "cm = confusion_matrix(y_test, y_pred)"
      ],
      "execution_count": null,
      "outputs": []
    },
    {
      "cell_type": "code",
      "metadata": {
        "id": "5YynlwKzbvUs",
        "colab": {
          "base_uri": "https://localhost:8080/",
          "height": 34
        },
        "outputId": "e895a5c2-2cdb-46e9-e746-6e30312116ec"
      },
      "source": [
        "from sklearn.metrics import accuracy_score\n",
        "print('accuracy is',accuracy_score(y_pred,y_test))"
      ],
      "execution_count": null,
      "outputs": [
        {
          "output_type": "stream",
          "text": [
            "accuracy is 1.0\n"
          ],
          "name": "stdout"
        }
      ]
    },
    {
      "cell_type": "code",
      "metadata": {
        "id": "ANIWmiG1bH8C",
        "colab": {
          "base_uri": "https://localhost:8080/",
          "height": 318
        },
        "outputId": "06688eef-b7cf-45c9-fb7f-e44f78e86fee"
      },
      "source": [
        "p = sns.heatmap(pd.DataFrame(cm), annot=True, cmap=\"YlGnBu\" ,fmt='g')\n",
        "plt.title('Confusion matrix', y=1.1)\n",
        "plt.ylabel('Actual label')\n",
        "plt.xlabel('Predicted label')"
      ],
      "execution_count": null,
      "outputs": [
        {
          "output_type": "execute_result",
          "data": {
            "text/plain": [
              "Text(0.5, 12.5, 'Predicted label')"
            ]
          },
          "metadata": {
            "tags": []
          },
          "execution_count": 49
        },
        {
          "output_type": "display_data",
          "data": {
            "image/png": "[encoded data removed]",
            "text/plain": [
              "<Figure size 432x288 with 2 Axes>"
            ]
          },
          "metadata": {
            "tags": []
          }
        }
      ]
    },
    {
      "cell_type": "code",
      "metadata": {
        "id": "f81dFgO6bPCp",
        "colab": {
          "base_uri": "https://localhost:8080/",
          "height": 170
        },
        "outputId": "58d9e581-35b8-4e09-cb2d-d1fb3eb4095d"
      },
      "source": [
        "from sklearn.metrics import classification_report\n",
        "print(classification_report(y_test,y_pred))"
      ],
      "execution_count": null,
      "outputs": [
        {
          "output_type": "stream",
          "text": [
            "              precision    recall  f1-score   support\n",
            "\n",
            "           0       1.00      1.00      1.00        16\n",
            "           1       1.00      1.00      1.00         4\n",
            "\n",
            "    accuracy                           1.00        20\n",
            "   macro avg       1.00      1.00      1.00        20\n",
            "weighted avg       1.00      1.00      1.00        20\n",
            "\n"
          ],
          "name": "stdout"
        }
      ]
    },
    {
      "cell_type": "code",
      "metadata": {
        "id": "i6l_bpEEbZ2L",
        "colab": {
          "base_uri": "https://localhost:8080/",
          "height": 301
        },
        "outputId": "ce16db9f-d853-4c15-8fb7-998b88e23c3c"
      },
      "source": [
        "from sklearn.metrics import roc_curve\n",
        "y_pred_proba = classifier.predict_proba(X_test)\n",
        "fpr, tpr, thresholds = roc_curve(y_test, y_pred_proba)\n",
        "plt.plot([0,1],[0,1],'k--')\n",
        "plt.plot(fpr,tpr, label='ANN')\n",
        "plt.xlabel('fpr')\n",
        "plt.ylabel('tpr')\n",
        "plt.title('ROC curve')\n",
        "plt.show()"
      ],
      "execution_count": null,
      "outputs": [
        {
          "output_type": "display_data",
          "data": {
            "image/png": "[encoded data removed]",
            "text/plain": [
              "<Figure size 432x288 with 1 Axes>"
            ]
          },
          "metadata": {
            "tags": []
          }
        }
      ]
    },
    {
      "cell_type": "code",
      "metadata": {
        "id": "tRFkg2mvbdQJ",
        "colab": {
          "base_uri": "https://localhost:8080/",
          "height": 34
        },
        "outputId": "66852ebe-9b08-4ecf-d3b1-6752e33ce775"
      },
      "source": [
        "from sklearn.metrics import roc_auc_score\n",
        "roc_auc_score(y_test,y_pred_proba)"
      ],
      "execution_count": null,
      "outputs": [
        {
          "output_type": "execute_result",
          "data": {
            "text/plain": [
              "1.0"
            ]
          },
          "metadata": {
            "tags": []
          },
          "execution_count": 52
        }
      ]
    },
    {
      "cell_type": "code",
      "metadata": {
        "id": "JkzMQYBZbhxN"
      },
      "source": [],
      "execution_count": null,
      "outputs": []
    }
  ]
}