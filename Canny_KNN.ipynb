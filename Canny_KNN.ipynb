{
  "nbformat": 4,
  "nbformat_minor": 0,
  "metadata": {
    "colab": {
      "provenance": []
    },
    "kernelspec": {
      "name": "python3",
      "display_name": "Python 3"
    }
  },
  "cells": [
    {
      "cell_type": "code",
      "metadata": {
        "id": "UORw8kqD3MZb",
        "colab": {
          "base_uri": "https://localhost:8080/",
          "height": 34
        },
        "outputId": "ffce955e-14ea-4985-aa3c-06c78f091385"
      },
      "source": [
        "cd drive/My Drive/Bhavana_Dataset(AGE)/AngleClosureGlaucomaDataset"
      ],
      "execution_count": null,
      "outputs": [
        {
          "output_type": "stream",
          "text": [
            "/content/drive/My Drive/Bhavana_Dataset(AGE)/AngleClosureGlaucomaDataset\n"
          ],
          "name": "stdout"
        }
      ]
    },
    {
      "cell_type": "code",
      "source": [
        "from google.colab import drive\n",
        "drive.mount('/content/drive')"
      ],
      "metadata": {
        "id": "xeKJbazqOagA"
      },
      "execution_count": null,
      "outputs": []
    },
    {
      "cell_type": "code",
      "metadata": {
        "id": "W6VJReNbEg-S",
        "colab": {
          "base_uri": "https://localhost:8080/",
          "height": 71
        },
        "outputId": "3dbaad12-b880-47d6-8ebd-52af59f26963"
      },
      "source": [
        "from mlxtend.plotting import plot_decision_regions\n",
        "import numpy as np\n",
        "import pandas as pd\n",
        "import matplotlib.pyplot as plt\n",
        "import seaborn as sns\n",
        "sns.set()\n",
        "import warnings\n",
        "warnings.filterwarnings('ignore')\n",
        "%matplotlib inline"
      ],
      "execution_count": null,
      "outputs": [
        {
          "output_type": "stream",
          "text": [
            "/usr/local/lib/python3.6/dist-packages/statsmodels/tools/_testing.py:19: FutureWarning: pandas.util.testing is deprecated. Use the functions in the public API at pandas.testing instead.\n",
            "  import pandas.util.testing as tm\n"
          ],
          "name": "stderr"
        }
      ]
    },
    {
      "cell_type": "code",
      "metadata": {
        "id": "IWOrkw65EoRA"
      },
      "source": [
        "glaucoma_data = pd.read_excel('Canny.xlsx')"
      ],
      "execution_count": null,
      "outputs": []
    },
    {
      "cell_type": "code",
      "metadata": {
        "id": "bDa8YSEXExGq",
        "colab": {
          "base_uri": "https://localhost:8080/",
          "height": 224
        },
        "outputId": "4a09985f-12b4-4ff7-b51d-96f77aca424f"
      },
      "source": [
        "glaucoma_data.head()"
      ],
      "execution_count": null,
      "outputs": [
        {
          "output_type": "execute_result",
          "data": {
            "text/html": [
              "<div>\n",
              "<style scoped>\n",
              "    .dataframe tbody tr th:only-of-type {\n",
              "        vertical-align: middle;\n",
              "    }\n",
              "\n",
              "    .dataframe tbody tr th {\n",
              "        vertical-align: top;\n",
              "    }\n",
              "\n",
              "    .dataframe thead th {\n",
              "        text-align: right;\n",
              "    }\n",
              "</style>\n",
              "<table border=\"1\" class=\"dataframe\">\n",
              "  <thead>\n",
              "    <tr style=\"text-align: right;\">\n",
              "      <th></th>\n",
              "      <th>contrast</th>\n",
              "      <th>correlation</th>\n",
              "      <th>energy</th>\n",
              "      <th>entropy</th>\n",
              "      <th>homogenity</th>\n",
              "      <th>sumofsquares</th>\n",
              "      <th>sumaverage</th>\n",
              "      <th>sumvariance</th>\n",
              "      <th>sumentropy</th>\n",
              "      <th>differencevariance</th>\n",
              "      <th>differenceentropy</th>\n",
              "      <th>imcorrelation1</th>\n",
              "      <th>imcorrelation2</th>\n",
              "      <th>acw</th>\n",
              "      <th>tial</th>\n",
              "      <th>tiar</th>\n",
              "      <th>class</th>\n",
              "    </tr>\n",
              "  </thead>\n",
              "  <tbody>\n",
              "    <tr>\n",
              "      <th>0</th>\n",
              "      <td>928250</td>\n",
              "      <td>0.753300</td>\n",
              "      <td>0.801406</td>\n",
              "      <td>0.716670</td>\n",
              "      <td>0.941855</td>\n",
              "      <td>0.886792</td>\n",
              "      <td>2.514092</td>\n",
              "      <td>3.114487</td>\n",
              "      <td>0.583549</td>\n",
              "      <td>0.913505</td>\n",
              "      <td>0.403087</td>\n",
              "      <td>-0.391901</td>\n",
              "      <td>0.542982</td>\n",
              "      <td>12.417210</td>\n",
              "      <td>50.713104</td>\n",
              "      <td>54.625850</td>\n",
              "      <td>0</td>\n",
              "    </tr>\n",
              "    <tr>\n",
              "      <th>1</th>\n",
              "      <td>658942</td>\n",
              "      <td>0.711066</td>\n",
              "      <td>0.821150</td>\n",
              "      <td>0.625873</td>\n",
              "      <td>0.949750</td>\n",
              "      <td>0.537501</td>\n",
              "      <td>2.372097</td>\n",
              "      <td>1.859234</td>\n",
              "      <td>0.512924</td>\n",
              "      <td>0.709428</td>\n",
              "      <td>0.357538</td>\n",
              "      <td>-0.381970</td>\n",
              "      <td>0.505809</td>\n",
              "      <td>12.766860</td>\n",
              "      <td>44.209367</td>\n",
              "      <td>51.189105</td>\n",
              "      <td>0</td>\n",
              "    </tr>\n",
              "    <tr>\n",
              "      <th>2</th>\n",
              "      <td>947877</td>\n",
              "      <td>0.746473</td>\n",
              "      <td>0.782498</td>\n",
              "      <td>0.770662</td>\n",
              "      <td>0.936665</td>\n",
              "      <td>0.881169</td>\n",
              "      <td>2.533454</td>\n",
              "      <td>3.086453</td>\n",
              "      <td>0.626049</td>\n",
              "      <td>0.956439</td>\n",
              "      <td>0.429758</td>\n",
              "      <td>-0.377271</td>\n",
              "      <td>0.548789</td>\n",
              "      <td>11.843102</td>\n",
              "      <td>49.852332</td>\n",
              "      <td>59.431839</td>\n",
              "      <td>0</td>\n",
              "    </tr>\n",
              "    <tr>\n",
              "      <th>3</th>\n",
              "      <td>924595</td>\n",
              "      <td>0.733291</td>\n",
              "      <td>0.786068</td>\n",
              "      <td>0.754634</td>\n",
              "      <td>0.937719</td>\n",
              "      <td>0.817043</td>\n",
              "      <td>2.515902</td>\n",
              "      <td>2.841554</td>\n",
              "      <td>0.611829</td>\n",
              "      <td>0.936072</td>\n",
              "      <td>0.423296</td>\n",
              "      <td>-0.385520</td>\n",
              "      <td>0.550093</td>\n",
              "      <td>12.214673</td>\n",
              "      <td>18.855062</td>\n",
              "      <td>24.666811</td>\n",
              "      <td>1</td>\n",
              "    </tr>\n",
              "    <tr>\n",
              "      <th>4</th>\n",
              "      <td>751573</td>\n",
              "      <td>0.747450</td>\n",
              "      <td>0.831692</td>\n",
              "      <td>0.613287</td>\n",
              "      <td>0.951359</td>\n",
              "      <td>0.701379</td>\n",
              "      <td>2.420344</td>\n",
              "      <td>2.457875</td>\n",
              "      <td>0.501690</td>\n",
              "      <td>0.752669</td>\n",
              "      <td>0.349479</td>\n",
              "      <td>-0.408857</td>\n",
              "      <td>0.519945</td>\n",
              "      <td>11.875336</td>\n",
              "      <td>85.406289</td>\n",
              "      <td>89.199509</td>\n",
              "      <td>0</td>\n",
              "    </tr>\n",
              "  </tbody>\n",
              "</table>\n",
              "</div>"
            ],
            "text/plain": [
              "   contrast  correlation    energy  ...       tial       tiar  class\n",
              "0    928250     0.753300  0.801406  ...  50.713104  54.625850      0\n",
              "1    658942     0.711066  0.821150  ...  44.209367  51.189105      0\n",
              "2    947877     0.746473  0.782498  ...  49.852332  59.431839      0\n",
              "3    924595     0.733291  0.786068  ...  18.855062  24.666811      1\n",
              "4    751573     0.747450  0.831692  ...  85.406289  89.199509      0\n",
              "\n",
              "[5 rows x 17 columns]"
            ]
          },
          "metadata": {
            "tags": []
          },
          "execution_count": 4
        }
      ]
    },
    {
      "cell_type": "code",
      "metadata": {
        "id": "FGwneJ88E1fa",
        "colab": {
          "base_uri": "https://localhost:8080/",
          "height": 425
        },
        "outputId": "c7488edf-0eaf-45ad-bee2-36e46d334dc0"
      },
      "source": [
        "glaucoma_data.info(verbose=True)"
      ],
      "execution_count": null,
      "outputs": [
        {
          "output_type": "stream",
          "text": [
            "<class 'pandas.core.frame.DataFrame'>\n",
            "RangeIndex: 100 entries, 0 to 99\n",
            "Data columns (total 17 columns):\n",
            " #   Column              Non-Null Count  Dtype  \n",
            "---  ------              --------------  -----  \n",
            " 0   contrast            100 non-null    int64  \n",
            " 1   correlation         100 non-null    float64\n",
            " 2   energy              100 non-null    float64\n",
            " 3   entropy             100 non-null    float64\n",
            " 4   homogenity          100 non-null    float64\n",
            " 5   sumofsquares        100 non-null    float64\n",
            " 6   sumaverage          100 non-null    float64\n",
            " 7   sumvariance         100 non-null    float64\n",
            " 8   sumentropy          100 non-null    float64\n",
            " 9   differencevariance  100 non-null    float64\n",
            " 10  differenceentropy   100 non-null    float64\n",
            " 11  imcorrelation1      100 non-null    float64\n",
            " 12  imcorrelation2      100 non-null    float64\n",
            " 13  acw                 100 non-null    float64\n",
            " 14  tial                100 non-null    float64\n",
            " 15  tiar                100 non-null    float64\n",
            " 16  class               100 non-null    int64  \n",
            "dtypes: float64(15), int64(2)\n",
            "memory usage: 13.4 KB\n"
          ],
          "name": "stdout"
        }
      ]
    },
    {
      "cell_type": "code",
      "metadata": {
        "id": "Djz1TIA4E4VG",
        "colab": {
          "base_uri": "https://localhost:8080/",
          "height": 317
        },
        "outputId": "a9e46267-3686-4ef1-a9d6-a8fe9f4807d7"
      },
      "source": [
        "glaucoma_data.describe()"
      ],
      "execution_count": null,
      "outputs": [
        {
          "output_type": "execute_result",
          "data": {
            "text/html": [
              "<div>\n",
              "<style scoped>\n",
              "    .dataframe tbody tr th:only-of-type {\n",
              "        vertical-align: middle;\n",
              "    }\n",
              "\n",
              "    .dataframe tbody tr th {\n",
              "        vertical-align: top;\n",
              "    }\n",
              "\n",
              "    .dataframe thead th {\n",
              "        text-align: right;\n",
              "    }\n",
              "</style>\n",
              "<table border=\"1\" class=\"dataframe\">\n",
              "  <thead>\n",
              "    <tr style=\"text-align: right;\">\n",
              "      <th></th>\n",
              "      <th>contrast</th>\n",
              "      <th>correlation</th>\n",
              "      <th>energy</th>\n",
              "      <th>entropy</th>\n",
              "      <th>homogenity</th>\n",
              "      <th>sumofsquares</th>\n",
              "      <th>sumaverage</th>\n",
              "      <th>sumvariance</th>\n",
              "      <th>sumentropy</th>\n",
              "      <th>differencevariance</th>\n",
              "      <th>differenceentropy</th>\n",
              "      <th>imcorrelation1</th>\n",
              "      <th>imcorrelation2</th>\n",
              "      <th>acw</th>\n",
              "      <th>tial</th>\n",
              "      <th>tiar</th>\n",
              "      <th>class</th>\n",
              "    </tr>\n",
              "  </thead>\n",
              "  <tbody>\n",
              "    <tr>\n",
              "      <th>count</th>\n",
              "      <td>100.00000</td>\n",
              "      <td>100.000000</td>\n",
              "      <td>100.000000</td>\n",
              "      <td>100.000000</td>\n",
              "      <td>100.000000</td>\n",
              "      <td>100.000000</td>\n",
              "      <td>100.000000</td>\n",
              "      <td>100.000000</td>\n",
              "      <td>100.000000</td>\n",
              "      <td>100.000000</td>\n",
              "      <td>100.000000</td>\n",
              "      <td>100.000000</td>\n",
              "      <td>100.000000</td>\n",
              "      <td>100.000000</td>\n",
              "      <td>100.000000</td>\n",
              "      <td>100.000000</td>\n",
              "      <td>100.000000</td>\n",
              "    </tr>\n",
              "    <tr>\n",
              "      <th>mean</th>\n",
              "      <td>681921.19000</td>\n",
              "      <td>0.716492</td>\n",
              "      <td>0.819442</td>\n",
              "      <td>0.633491</td>\n",
              "      <td>0.949218</td>\n",
              "      <td>0.573512</td>\n",
              "      <td>2.386943</td>\n",
              "      <td>1.990472</td>\n",
              "      <td>0.519160</td>\n",
              "      <td>0.726010</td>\n",
              "      <td>0.360554</td>\n",
              "      <td>-0.382742</td>\n",
              "      <td>0.508171</td>\n",
              "      <td>12.122796</td>\n",
              "      <td>49.254270</td>\n",
              "      <td>51.560224</td>\n",
              "      <td>0.200000</td>\n",
              "    </tr>\n",
              "    <tr>\n",
              "      <th>std</th>\n",
              "      <td>103177.47075</td>\n",
              "      <td>0.020636</td>\n",
              "      <td>0.019329</td>\n",
              "      <td>0.065103</td>\n",
              "      <td>0.005808</td>\n",
              "      <td>0.114384</td>\n",
              "      <td>0.062964</td>\n",
              "      <td>0.406865</td>\n",
              "      <td>0.051071</td>\n",
              "      <td>0.093932</td>\n",
              "      <td>0.032379</td>\n",
              "      <td>0.012613</td>\n",
              "      <td>0.026910</td>\n",
              "      <td>0.549334</td>\n",
              "      <td>20.498450</td>\n",
              "      <td>20.260891</td>\n",
              "      <td>0.402015</td>\n",
              "    </tr>\n",
              "    <tr>\n",
              "      <th>min</th>\n",
              "      <td>379721.00000</td>\n",
              "      <td>0.604802</td>\n",
              "      <td>0.775076</td>\n",
              "      <td>0.456302</td>\n",
              "      <td>0.936665</td>\n",
              "      <td>0.226453</td>\n",
              "      <td>2.207520</td>\n",
              "      <td>0.767065</td>\n",
              "      <td>0.378784</td>\n",
              "      <td>0.481257</td>\n",
              "      <td>0.270040</td>\n",
              "      <td>-0.418544</td>\n",
              "      <td>0.401025</td>\n",
              "      <td>10.761774</td>\n",
              "      <td>0.985500</td>\n",
              "      <td>0.572960</td>\n",
              "      <td>0.000000</td>\n",
              "    </tr>\n",
              "    <tr>\n",
              "      <th>25%</th>\n",
              "      <td>622812.50000</td>\n",
              "      <td>0.706229</td>\n",
              "      <td>0.805765</td>\n",
              "      <td>0.592002</td>\n",
              "      <td>0.944965</td>\n",
              "      <td>0.515251</td>\n",
              "      <td>2.352955</td>\n",
              "      <td>1.792565</td>\n",
              "      <td>0.486425</td>\n",
              "      <td>0.670014</td>\n",
              "      <td>0.338716</td>\n",
              "      <td>-0.387477</td>\n",
              "      <td>0.494873</td>\n",
              "      <td>11.781769</td>\n",
              "      <td>35.188662</td>\n",
              "      <td>37.351593</td>\n",
              "      <td>0.000000</td>\n",
              "    </tr>\n",
              "    <tr>\n",
              "      <th>50%</th>\n",
              "      <td>685597.00000</td>\n",
              "      <td>0.715420</td>\n",
              "      <td>0.819261</td>\n",
              "      <td>0.633477</td>\n",
              "      <td>0.949386</td>\n",
              "      <td>0.572460</td>\n",
              "      <td>2.386288</td>\n",
              "      <td>1.989109</td>\n",
              "      <td>0.519474</td>\n",
              "      <td>0.730293</td>\n",
              "      <td>0.360128</td>\n",
              "      <td>-0.382916</td>\n",
              "      <td>0.508947</td>\n",
              "      <td>12.116464</td>\n",
              "      <td>49.732319</td>\n",
              "      <td>53.747425</td>\n",
              "      <td>0.000000</td>\n",
              "    </tr>\n",
              "    <tr>\n",
              "      <th>75%</th>\n",
              "      <td>748981.25000</td>\n",
              "      <td>0.728323</td>\n",
              "      <td>0.833026</td>\n",
              "      <td>0.678491</td>\n",
              "      <td>0.953253</td>\n",
              "      <td>0.636348</td>\n",
              "      <td>2.425014</td>\n",
              "      <td>2.191111</td>\n",
              "      <td>0.553189</td>\n",
              "      <td>0.787931</td>\n",
              "      <td>0.384372</td>\n",
              "      <td>-0.377283</td>\n",
              "      <td>0.524610</td>\n",
              "      <td>12.441141</td>\n",
              "      <td>63.138057</td>\n",
              "      <td>65.783244</td>\n",
              "      <td>0.000000</td>\n",
              "    </tr>\n",
              "    <tr>\n",
              "      <th>max</th>\n",
              "      <td>947877.00000</td>\n",
              "      <td>0.774945</td>\n",
              "      <td>0.873105</td>\n",
              "      <td>0.791374</td>\n",
              "      <td>0.964867</td>\n",
              "      <td>0.935877</td>\n",
              "      <td>2.578993</td>\n",
              "      <td>3.326548</td>\n",
              "      <td>0.644483</td>\n",
              "      <td>0.956439</td>\n",
              "      <td>0.429758</td>\n",
              "      <td>-0.303767</td>\n",
              "      <td>0.584996</td>\n",
              "      <td>14.212093</td>\n",
              "      <td>97.945941</td>\n",
              "      <td>99.290512</td>\n",
              "      <td>1.000000</td>\n",
              "    </tr>\n",
              "  </tbody>\n",
              "</table>\n",
              "</div>"
            ],
            "text/plain": [
              "           contrast  correlation  ...        tiar       class\n",
              "count     100.00000   100.000000  ...  100.000000  100.000000\n",
              "mean   681921.19000     0.716492  ...   51.560224    0.200000\n",
              "std    103177.47075     0.020636  ...   20.260891    0.402015\n",
              "min    379721.00000     0.604802  ...    0.572960    0.000000\n",
              "25%    622812.50000     0.706229  ...   37.351593    0.000000\n",
              "50%    685597.00000     0.715420  ...   53.747425    0.000000\n",
              "75%    748981.25000     0.728323  ...   65.783244    0.000000\n",
              "max    947877.00000     0.774945  ...   99.290512    1.000000\n",
              "\n",
              "[8 rows x 17 columns]"
            ]
          },
          "metadata": {
            "tags": []
          },
          "execution_count": 6
        }
      ]
    },
    {
      "cell_type": "code",
      "metadata": {
        "id": "V6aF5e1gE8sf",
        "colab": {
          "base_uri": "https://localhost:8080/",
          "height": 323
        },
        "outputId": "3da9b05a-b53f-4960-f3ce-18fcd915a0f4"
      },
      "source": [
        "print(glaucoma_data.isnull().sum())"
      ],
      "execution_count": null,
      "outputs": [
        {
          "output_type": "stream",
          "text": [
            "contrast              0\n",
            "correlation           0\n",
            "energy                0\n",
            "entropy               0\n",
            "homogenity            0\n",
            "sumofsquares          0\n",
            "sumaverage            0\n",
            "sumvariance           0\n",
            "sumentropy            0\n",
            "differencevariance    0\n",
            "differenceentropy     0\n",
            "imcorrelation1        0\n",
            "imcorrelation2        0\n",
            "acw                   0\n",
            "tial                  0\n",
            "tiar                  0\n",
            "class                 0\n",
            "dtype: int64\n"
          ],
          "name": "stdout"
        }
      ]
    },
    {
      "cell_type": "code",
      "metadata": {
        "id": "WhUKxeNZFG-d",
        "colab": {
          "base_uri": "https://localhost:8080/",
          "height": 34
        },
        "outputId": "f1a90dbe-a8cf-4ec0-ab9b-0bf1c0bf49e1"
      },
      "source": [
        "glaucoma_data.shape"
      ],
      "execution_count": null,
      "outputs": [
        {
          "output_type": "execute_result",
          "data": {
            "text/plain": [
              "(100, 17)"
            ]
          },
          "metadata": {
            "tags": []
          },
          "execution_count": 10
        }
      ]
    },
    {
      "cell_type": "code",
      "metadata": {
        "id": "twpDgia_FgC6",
        "colab": {
          "base_uri": "https://localhost:8080/",
          "height": 335
        },
        "outputId": "b8e904b3-caf3-421b-8998-323eb795c0f2"
      },
      "source": [
        "colors = [\"#11111F\", \"#1F0101\"]\n",
        "sns.countplot('class', data=glaucoma_data, palette=colors)\n",
        "plt.title('Class distributions \\n (0 -> No Glaucoma  1 -> Glaucoma)', fontsize=14)"
      ],
      "execution_count": null,
      "outputs": [
        {
          "output_type": "execute_result",
          "data": {
            "text/plain": [
              "Text(0.5, 1.0, 'Class distributions \\n (0 -> No Glaucoma  1 -> Glaucoma)')"
            ]
          },
          "metadata": {
            "tags": []
          },
          "execution_count": 15
        },
        {
          "output_type": "display_data",
          "data": {
            "image/png": "[encoded data removed]",
            "text/plain": [
              "<Figure size 432x288 with 1 Axes>"
            ]
          },
          "metadata": {
            "tags": [],
            "needs_background": "light"
          }
        }
      ]
    },
    {
      "cell_type": "code",
      "metadata": {
        "id": "3cZfU0vWF1SP",
        "colab": {
          "base_uri": "https://localhost:8080/",
          "height": 495
        },
        "outputId": "7c7d1ccf-3240-4cd7-9c36-93d25acb1ee1"
      },
      "source": [
        "import missingno as msno\n",
        "p=msno.bar(glaucoma_data)"
      ],
      "execution_count": null,
      "outputs": [
        {
          "output_type": "display_data",
          "data": {
            "image/png": "[encoded data removed]",
            "text/plain": [
              "<Figure size 1728x720 with 3 Axes>"
            ]
          },
          "metadata": {
            "tags": [],
            "needs_background": "light"
          }
        }
      ]
    },
    {
      "cell_type": "code",
      "metadata": {
        "id": "l9L_bYMEGXZF"
      },
      "source": [
        "from sklearn.preprocessing import StandardScaler\n",
        "sc_X = StandardScaler()\n",
        "X =  pd.DataFrame(sc_X.fit_transform(glaucoma_data.drop([\"class\"],axis = 1),),\n",
        "        columns=['contrast','correlation','energy','entropy','homogenity','sumofsquares','sumaverage',\n",
        "                 'sumvariance','sumentropy','differencevariance','differenceentropy','imcorrelation1',\n",
        "                 'imcorrelation2','acw','tial','tiar'])"
      ],
      "execution_count": null,
      "outputs": []
    },
    {
      "cell_type": "code",
      "metadata": {
        "id": "Bmc1y8yOGmac",
        "colab": {
          "base_uri": "https://localhost:8080/",
          "height": 224
        },
        "outputId": "607a9de2-ea84-4d51-c896-1d1d82c7fbf5"
      },
      "source": [
        "X.head()"
      ],
      "execution_count": null,
      "outputs": [
        {
          "output_type": "execute_result",
          "data": {
            "text/html": [
              "<div>\n",
              "<style scoped>\n",
              "    .dataframe tbody tr th:only-of-type {\n",
              "        vertical-align: middle;\n",
              "    }\n",
              "\n",
              "    .dataframe tbody tr th {\n",
              "        vertical-align: top;\n",
              "    }\n",
              "\n",
              "    .dataframe thead th {\n",
              "        text-align: right;\n",
              "    }\n",
              "</style>\n",
              "<table border=\"1\" class=\"dataframe\">\n",
              "  <thead>\n",
              "    <tr style=\"text-align: right;\">\n",
              "      <th></th>\n",
              "      <th>contrast</th>\n",
              "      <th>correlation</th>\n",
              "      <th>energy</th>\n",
              "      <th>entropy</th>\n",
              "      <th>homogenity</th>\n",
              "      <th>sumofsquares</th>\n",
              "      <th>sumaverage</th>\n",
              "      <th>sumvariance</th>\n",
              "      <th>sumentropy</th>\n",
              "      <th>differencevariance</th>\n",
              "      <th>differenceentropy</th>\n",
              "      <th>imcorrelation1</th>\n",
              "      <th>imcorrelation2</th>\n",
              "      <th>acw</th>\n",
              "      <th>tial</th>\n",
              "      <th>tiar</th>\n",
              "    </tr>\n",
              "  </thead>\n",
              "  <tbody>\n",
              "    <tr>\n",
              "      <th>0</th>\n",
              "      <td>2.399456</td>\n",
              "      <td>1.792652</td>\n",
              "      <td>-0.937780</td>\n",
              "      <td>1.284090</td>\n",
              "      <td>-1.274232</td>\n",
              "      <td>2.752634</td>\n",
              "      <td>2.029576</td>\n",
              "      <td>2.776538</td>\n",
              "      <td>1.267125</td>\n",
              "      <td>2.006126</td>\n",
              "      <td>1.320235</td>\n",
              "      <td>-0.729850</td>\n",
              "      <td>1.300114</td>\n",
              "      <td>0.538647</td>\n",
              "      <td>0.071527</td>\n",
              "      <td>0.152070</td>\n",
              "    </tr>\n",
              "    <tr>\n",
              "      <th>1</th>\n",
              "      <td>-0.223837</td>\n",
              "      <td>-0.264270</td>\n",
              "      <td>0.088818</td>\n",
              "      <td>-0.117606</td>\n",
              "      <td>0.091917</td>\n",
              "      <td>-0.316412</td>\n",
              "      <td>-0.236977</td>\n",
              "      <td>-0.324183</td>\n",
              "      <td>-0.122729</td>\n",
              "      <td>-0.177413</td>\n",
              "      <td>-0.093637</td>\n",
              "      <td>0.061496</td>\n",
              "      <td>-0.088211</td>\n",
              "      <td>1.178352</td>\n",
              "      <td>-0.247351</td>\n",
              "      <td>-0.018409</td>\n",
              "    </tr>\n",
              "    <tr>\n",
              "      <th>2</th>\n",
              "      <td>2.590640</td>\n",
              "      <td>1.460174</td>\n",
              "      <td>-1.920885</td>\n",
              "      <td>2.117605</td>\n",
              "      <td>-2.172338</td>\n",
              "      <td>2.703229</td>\n",
              "      <td>2.338642</td>\n",
              "      <td>2.707290</td>\n",
              "      <td>2.103493</td>\n",
              "      <td>2.465503</td>\n",
              "      <td>2.148102</td>\n",
              "      <td>0.435969</td>\n",
              "      <td>1.516979</td>\n",
              "      <td>-0.511716</td>\n",
              "      <td>0.029323</td>\n",
              "      <td>0.390470</td>\n",
              "    </tr>\n",
              "    <tr>\n",
              "      <th>3</th>\n",
              "      <td>2.363853</td>\n",
              "      <td>0.818169</td>\n",
              "      <td>-1.735268</td>\n",
              "      <td>1.870179</td>\n",
              "      <td>-1.989937</td>\n",
              "      <td>2.139783</td>\n",
              "      <td>2.058460</td>\n",
              "      <td>2.102340</td>\n",
              "      <td>1.823650</td>\n",
              "      <td>2.247584</td>\n",
              "      <td>1.947523</td>\n",
              "      <td>-0.221350</td>\n",
              "      <td>1.565685</td>\n",
              "      <td>0.168094</td>\n",
              "      <td>-1.490471</td>\n",
              "      <td>-1.334043</td>\n",
              "    </tr>\n",
              "    <tr>\n",
              "      <th>4</th>\n",
              "      <td>0.678469</td>\n",
              "      <td>1.507721</td>\n",
              "      <td>0.636978</td>\n",
              "      <td>-0.311914</td>\n",
              "      <td>0.370479</td>\n",
              "      <td>1.123501</td>\n",
              "      <td>0.533150</td>\n",
              "      <td>1.154578</td>\n",
              "      <td>-0.343797</td>\n",
              "      <td>0.285240</td>\n",
              "      <td>-0.343784</td>\n",
              "      <td>-2.080957</td>\n",
              "      <td>0.439717</td>\n",
              "      <td>-0.452742</td>\n",
              "      <td>1.772531</td>\n",
              "      <td>1.867090</td>\n",
              "    </tr>\n",
              "  </tbody>\n",
              "</table>\n",
              "</div>"
            ],
            "text/plain": [
              "   contrast  correlation    energy  ...       acw      tial      tiar\n",
              "0  2.399456     1.792652 -0.937780  ...  0.538647  0.071527  0.152070\n",
              "1 -0.223837    -0.264270  0.088818  ...  1.178352 -0.247351 -0.018409\n",
              "2  2.590640     1.460174 -1.920885  ... -0.511716  0.029323  0.390470\n",
              "3  2.363853     0.818169 -1.735268  ...  0.168094 -1.490471 -1.334043\n",
              "4  0.678469     1.507721  0.636978  ... -0.452742  1.772531  1.867090\n",
              "\n",
              "[5 rows x 16 columns]"
            ]
          },
          "metadata": {
            "tags": []
          },
          "execution_count": 18
        }
      ]
    },
    {
      "cell_type": "code",
      "metadata": {
        "id": "MLiUY948Goh5"
      },
      "source": [
        "y = glaucoma_data['class']"
      ],
      "execution_count": null,
      "outputs": []
    },
    {
      "cell_type": "code",
      "metadata": {
        "id": "uTZRWslrGqsW"
      },
      "source": [
        "from sklearn.model_selection import train_test_split\n",
        "X_train,X_test,y_train,y_test = train_test_split(X,y,test_size=0.2,random_state=42, stratify=y)"
      ],
      "execution_count": null,
      "outputs": []
    },
    {
      "cell_type": "code",
      "metadata": {
        "id": "BGQjswf3GvGU"
      },
      "source": [
        "from sklearn.neighbors import KNeighborsClassifier\n",
        "test_scores = []\n",
        "train_scores = []\n",
        "\n",
        "for i in range(1,15):\n",
        "\n",
        "    knn = KNeighborsClassifier(i)\n",
        "    knn.fit(X_train,y_train)\n",
        "    \n",
        "    train_scores.append(knn.score(X_train,y_train))\n",
        "    test_scores.append(knn.score(X_test,y_test))"
      ],
      "execution_count": null,
      "outputs": []
    },
    {
      "cell_type": "code",
      "metadata": {
        "id": "lz5o6Gx_GyWA",
        "colab": {
          "base_uri": "https://localhost:8080/",
          "height": 51
        },
        "outputId": "36f60d6d-7c55-4c62-d8d2-043524dec33e"
      },
      "source": [
        "max_train_score = max(train_scores)\n",
        "train_scores_ind = [i for i, v in enumerate(train_scores) if v == max_train_score]\n",
        "print('Maximum training score = {} % \\nk = {}'.format(max_train_score*100,list(map(lambda x: x+1, train_scores_ind))))"
      ],
      "execution_count": null,
      "outputs": [
        {
          "output_type": "stream",
          "text": [
            "Maximum training score = 100.0 % \n",
            "k = [1]\n"
          ],
          "name": "stdout"
        }
      ]
    },
    {
      "cell_type": "code",
      "metadata": {
        "id": "LKJIhEKzG2Bc",
        "colab": {
          "base_uri": "https://localhost:8080/",
          "height": 51
        },
        "outputId": "a79ac494-2b4e-495b-fe9b-932b72d7bdf7"
      },
      "source": [
        "max_test_score = max(test_scores)\n",
        "test_scores_ind = [i for i, v in enumerate(test_scores) if v == max_test_score]\n",
        "print('Maximum testing score = {} % \\nk = {}'.format(max_test_score*100,list(map(lambda x: x+1, test_scores_ind))))"
      ],
      "execution_count": null,
      "outputs": [
        {
          "output_type": "stream",
          "text": [
            "Maximum testing score = 95.0 % \n",
            "k = [1, 2, 3, 6]\n"
          ],
          "name": "stdout"
        }
      ]
    },
    {
      "cell_type": "code",
      "metadata": {
        "id": "8zNe5aNXHJFv",
        "colab": {
          "base_uri": "https://localhost:8080/",
          "height": 322
        },
        "outputId": "5ca045a9-3018-4bea-fec7-bbe6f9c85503"
      },
      "source": [
        "plt.figure(figsize=(12,5))\n",
        "p = sns.lineplot(range(1,15),train_scores,marker='+',label='Train Score')\n",
        "p = sns.lineplot(range(1,15),test_scores,marker='o',label='Test Score')"
      ],
      "execution_count": null,
      "outputs": [
        {
          "output_type": "display_data",
          "data": {
            "image/png": "[encoded data removed]",
            "text/plain": [
              "<Figure size 864x360 with 1 Axes>"
            ]
          },
          "metadata": {
            "tags": [],
            "needs_background": "light"
          }
        }
      ]
    },
    {
      "cell_type": "code",
      "metadata": {
        "id": "KgCvyJ5OHaYT",
        "colab": {
          "base_uri": "https://localhost:8080/",
          "height": 34
        },
        "outputId": "756244a1-05ed-4daa-f56a-42c21f37cfdb"
      },
      "source": [
        "knn = KNeighborsClassifier(1)\n",
        "knn.fit(X_train,y_train)\n",
        "knn.score(X_test,y_test)"
      ],
      "execution_count": null,
      "outputs": [
        {
          "output_type": "execute_result",
          "data": {
            "text/plain": [
              "0.95"
            ]
          },
          "metadata": {
            "tags": []
          },
          "execution_count": 32
        }
      ]
    },
    {
      "cell_type": "code",
      "metadata": {
        "id": "H66Ikg7LHtqM",
        "colab": {
          "base_uri": "https://localhost:8080/",
          "height": 173
        },
        "outputId": "f8858d4b-5593-447c-8571-cc535aeb9b81"
      },
      "source": [
        "from sklearn.metrics import confusion_matrix\n",
        "y_pred = knn.predict(X_test)\n",
        "confusion_matrix(y_test,y_pred)\n",
        "pd.crosstab(y_test, y_pred, rownames=['True'], colnames=['Predicted'], margins=True)"
      ],
      "execution_count": null,
      "outputs": [
        {
          "output_type": "execute_result",
          "data": {
            "text/html": [
              "<div>\n",
              "<style scoped>\n",
              "    .dataframe tbody tr th:only-of-type {\n",
              "        vertical-align: middle;\n",
              "    }\n",
              "\n",
              "    .dataframe tbody tr th {\n",
              "        vertical-align: top;\n",
              "    }\n",
              "\n",
              "    .dataframe thead th {\n",
              "        text-align: right;\n",
              "    }\n",
              "</style>\n",
              "<table border=\"1\" class=\"dataframe\">\n",
              "  <thead>\n",
              "    <tr style=\"text-align: right;\">\n",
              "      <th>Predicted</th>\n",
              "      <th>0</th>\n",
              "      <th>1</th>\n",
              "      <th>All</th>\n",
              "    </tr>\n",
              "    <tr>\n",
              "      <th>True</th>\n",
              "      <th></th>\n",
              "      <th></th>\n",
              "      <th></th>\n",
              "    </tr>\n",
              "  </thead>\n",
              "  <tbody>\n",
              "    <tr>\n",
              "      <th>0</th>\n",
              "      <td>15</td>\n",
              "      <td>1</td>\n",
              "      <td>16</td>\n",
              "    </tr>\n",
              "    <tr>\n",
              "      <th>1</th>\n",
              "      <td>0</td>\n",
              "      <td>4</td>\n",
              "      <td>4</td>\n",
              "    </tr>\n",
              "    <tr>\n",
              "      <th>All</th>\n",
              "      <td>15</td>\n",
              "      <td>5</td>\n",
              "      <td>20</td>\n",
              "    </tr>\n",
              "  </tbody>\n",
              "</table>\n",
              "</div>"
            ],
            "text/plain": [
              "Predicted   0  1  All\n",
              "True                 \n",
              "0          15  1   16\n",
              "1           0  4    4\n",
              "All        15  5   20"
            ]
          },
          "metadata": {
            "tags": []
          },
          "execution_count": 34
        }
      ]
    },
    {
      "cell_type": "code",
      "metadata": {
        "id": "qWeAd9G0H33j",
        "colab": {
          "base_uri": "https://localhost:8080/",
          "height": 318
        },
        "outputId": "db8585c0-f2ba-4301-d6d7-de0b155f1cd8"
      },
      "source": [
        "y_pred = knn.predict(X_test)\n",
        "from sklearn import metrics\n",
        "cnf_matrix = metrics.confusion_matrix(y_test, y_pred)\n",
        "p = sns.heatmap(pd.DataFrame(cnf_matrix), annot=True, cmap=\"YlGnBu\" ,fmt='g')\n",
        "plt.title('Confusion matrix', y=1.1)\n",
        "plt.ylabel('Actual label')\n",
        "plt.xlabel('Predicted label')"
      ],
      "execution_count": null,
      "outputs": [
        {
          "output_type": "execute_result",
          "data": {
            "text/plain": [
              "Text(0.5, 12.5, 'Predicted label')"
            ]
          },
          "metadata": {
            "tags": []
          },
          "execution_count": 42
        },
        {
          "output_type": "display_data",
          "data": {
            "image/png": "[encoded data removed]",
            "text/plain": [
              "<Figure size 432x288 with 2 Axes>"
            ]
          },
          "metadata": {
            "tags": [],
            "needs_background": "light"
          }
        }
      ]
    },
    {
      "cell_type": "code",
      "metadata": {
        "id": "_Kmfj5V3IpXC",
        "colab": {
          "base_uri": "https://localhost:8080/",
          "height": 170
        },
        "outputId": "af971899-ee33-49aa-ec68-e3f004bf2ad2"
      },
      "source": [
        "from sklearn.metrics import classification_report\n",
        "print(classification_report(y_test,y_pred))"
      ],
      "execution_count": null,
      "outputs": [
        {
          "output_type": "stream",
          "text": [
            "              precision    recall  f1-score   support\n",
            "\n",
            "           0       1.00      0.94      0.97        16\n",
            "           1       0.80      1.00      0.89         4\n",
            "\n",
            "    accuracy                           0.95        20\n",
            "   macro avg       0.90      0.97      0.93        20\n",
            "weighted avg       0.96      0.95      0.95        20\n",
            "\n"
          ],
          "name": "stdout"
        }
      ]
    },
    {
      "cell_type": "code",
      "metadata": {
        "id": "N42-OrwQJQiN"
      },
      "source": [
        "from sklearn.metrics import roc_curve\n",
        "y_pred_proba = knn.predict_proba(X_test)[:,1]\n",
        "fpr, tpr, thresholds = roc_curve(y_test, y_pred_proba)"
      ],
      "execution_count": null,
      "outputs": []
    },
    {
      "cell_type": "code",
      "metadata": {
        "id": "RoVC1ZJBJWYS",
        "colab": {
          "base_uri": "https://localhost:8080/",
          "height": 301
        },
        "outputId": "4ec67aa6-8a45-4bf2-c2c2-f7170ec2b121"
      },
      "source": [
        "plt.plot([0,1],[0,1],'k--')\n",
        "plt.plot(fpr,tpr, label='Knn')\n",
        "plt.xlabel('fpr')\n",
        "plt.ylabel('tpr')\n",
        "plt.title('Knn(n_neighbors=1) ROC curve')\n",
        "plt.show()"
      ],
      "execution_count": null,
      "outputs": [
        {
          "output_type": "display_data",
          "data": {
            "image/png": "[encoded data removed]",
            "text/plain": [
              "<Figure size 432x288 with 1 Axes>"
            ]
          },
          "metadata": {
            "tags": [],
            "needs_background": "light"
          }
        }
      ]
    },
    {
      "cell_type": "code",
      "metadata": {
        "id": "Q7uoZXD4Jb13",
        "colab": {
          "base_uri": "https://localhost:8080/",
          "height": 34
        },
        "outputId": "021882f0-9db8-4526-c5f6-b71e8464a47b"
      },
      "source": [
        "from sklearn.metrics import roc_auc_score\n",
        "roc_auc_score(y_test,y_pred_proba)"
      ],
      "execution_count": null,
      "outputs": [
        {
          "output_type": "execute_result",
          "data": {
            "text/plain": [
              "0.96875"
            ]
          },
          "metadata": {
            "tags": []
          },
          "execution_count": 46
        }
      ]
    }
  ]
}