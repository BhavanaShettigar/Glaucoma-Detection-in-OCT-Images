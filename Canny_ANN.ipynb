{
  "nbformat": 4,
  "nbformat_minor": 0,
  "metadata": {
    "colab": {
      "provenance": []
    },
    "kernelspec": {
      "name": "python3",
      "display_name": "Python 3"
    }
  },
  "cells": [
    {
      "cell_type": "code",
      "metadata": {
        "id": "0bR8vTOSWe6B",
        "colab": {
          "base_uri": "https://localhost:8080/",
          "height": 51
        },
        "outputId": "42badfc8-a195-412e-f90b-24bea96d304c"
      },
      "source": [
        "cd drive/My Drive/Bhavana_Dataset(AGE)/AngleClosureGlaucomaDataset"
      ],
      "execution_count": null,
      "outputs": [
        {
          "output_type": "stream",
          "text": [
            ",
            "/content/drive/My Drive/Dataset Path\n"
          ],
          "name": "stdout"
        }
      ]
    },
    {
      "cell_type": "code",
      "metadata": {
        "id": "iJyZf9NrWwjx"
      },
      "source": [
        "import pandas as pd\n",
        "import numpy as np\n",
        "import theano\n",
        "import keras\n",
        "import tensorflow\n",
        "import matplotlib.pyplot as plt\n",
        "import seaborn as sns\n",
        "sns.set()\n",
        "import warnings\n",
        "warnings.filterwarnings('ignore')\n"
      ],
      "execution_count": null,
      "outputs": []
    },
    {
      "cell_type": "code",
      "metadata": {
        "id": "IHiXkldEXgpW"
      },
      "source": [
        "glaucoma_data = pd.read_excel('Canny.xlsx')"
      ],
      "execution_count": null,
      "outputs": []
    },
    {
      "cell_type": "code",
      "metadata": {
        "id": "G1fucI6yX9BD",
        "colab": {
          "base_uri": "https://localhost:8080/",
          "height": 224
        },
        "outputId": "f6faaf85-06fa-4303-f836-740e98a854da"
      },
      "source": [
        "glaucoma_data.head()"
      ],
      "execution_count": null,
      "outputs": [
        {
          "output_type": "execute_result",
          "data": {
            "text/html": [
              "<div>\n",
              "<style scoped>\n",
              "    .dataframe tbody tr th:only-of-type {\n",
              "        vertical-align: middle;\n",
              "    }\n",
              "\n",
              "    .dataframe tbody tr th {\n",
              "        vertical-align: top;\n",
              "    }\n",
              "\n",
              "    .dataframe thead th {\n",
              "        text-align: right;\n",
              "    }\n",
              "</style>\n",
              "<table border=\"1\" class=\"dataframe\">\n",
              "  <thead>\n",
              "    <tr style=\"text-align: right;\">\n",
              "      <th></th>\n",
              "      <th>contrast</th>\n",
              "      <th>correlation</th>\n",
              "      <th>energy</th>\n",
              "      <th>entropy</th>\n",
              "      <th>homogenity</th>\n",
              "      <th>sumofsquares</th>\n",
              "      <th>sumaverage</th>\n",
              "      <th>sumvariance</th>\n",
              "      <th>sumentropy</th>\n",
              "      <th>differencevariance</th>\n",
              "      <th>differenceentropy</th>\n",
              "      <th>imcorrelation1</th>\n",
              "      <th>imcorrelation2</th>\n",
              "      <th>acw</th>\n",
              "      <th>tial</th>\n",
              "      <th>tiar</th>\n",
              "      <th>class</th>\n",
              "    </tr>\n",
              "  </thead>\n",
              "  <tbody>\n",
              "    <tr>\n",
              "      <th>0</th>\n",
              "      <td>928250</td>\n",
              "      <td>0.753300</td>\n",
              "      <td>0.801406</td>\n",
              "      <td>0.716670</td>\n",
              "      <td>0.941855</td>\n",
              "      <td>0.886792</td>\n",
              "      <td>2.514092</td>\n",
              "      <td>3.114487</td>\n",
              "      <td>0.583549</td>\n",
              "      <td>0.913505</td>\n",
              "      <td>0.403087</td>\n",
              "      <td>-0.391901</td>\n",
              "      <td>0.542982</td>\n",
              "      <td>12.417210</td>\n",
              "      <td>50.713104</td>\n",
              "      <td>54.625850</td>\n",
              "      <td>0</td>\n",
              "    </tr>\n",
              "    <tr>\n",
              "      <th>1</th>\n",
              "      <td>658942</td>\n",
              "      <td>0.711066</td>\n",
              "      <td>0.821150</td>\n",
              "      <td>0.625873</td>\n",
              "      <td>0.949750</td>\n",
              "      <td>0.537501</td>\n",
              "      <td>2.372097</td>\n",
              "      <td>1.859234</td>\n",
              "      <td>0.512924</td>\n",
              "      <td>0.709428</td>\n",
              "      <td>0.357538</td>\n",
              "      <td>-0.381970</td>\n",
              "      <td>0.505809</td>\n",
              "      <td>12.766860</td>\n",
              "      <td>44.209367</td>\n",
              "      <td>51.189105</td>\n",
              "      <td>0</td>\n",
              "    </tr>\n",
              "    <tr>\n",
              "      <th>2</th>\n",
              "      <td>947877</td>\n",
              "      <td>0.746473</td>\n",
              "      <td>0.782498</td>\n",
              "      <td>0.770662</td>\n",
              "      <td>0.936665</td>\n",
              "      <td>0.881169</td>\n",
              "      <td>2.533454</td>\n",
              "      <td>3.086453</td>\n",
              "      <td>0.626049</td>\n",
              "      <td>0.956439</td>\n",
              "      <td>0.429758</td>\n",
              "      <td>-0.377271</td>\n",
              "      <td>0.548789</td>\n",
              "      <td>11.843102</td>\n",
              "      <td>49.852332</td>\n",
              "      <td>59.431839</td>\n",
              "      <td>0</td>\n",
              "    </tr>\n",
              "    <tr>\n",
              "      <th>3</th>\n",
              "      <td>924595</td>\n",
              "      <td>0.733291</td>\n",
              "      <td>0.786068</td>\n",
              "      <td>0.754634</td>\n",
              "      <td>0.937719</td>\n",
              "      <td>0.817043</td>\n",
              "      <td>2.515902</td>\n",
              "      <td>2.841554</td>\n",
              "      <td>0.611829</td>\n",
              "      <td>0.936072</td>\n",
              "      <td>0.423296</td>\n",
              "      <td>-0.385520</td>\n",
              "      <td>0.550093</td>\n",
              "      <td>12.214673</td>\n",
              "      <td>18.855062</td>\n",
              "      <td>24.666811</td>\n",
              "      <td>1</td>\n",
              "    </tr>\n",
              "    <tr>\n",
              "      <th>4</th>\n",
              "      <td>751573</td>\n",
              "      <td>0.747450</td>\n",
              "      <td>0.831692</td>\n",
              "      <td>0.613287</td>\n",
              "      <td>0.951359</td>\n",
              "      <td>0.701379</td>\n",
              "      <td>2.420344</td>\n",
              "      <td>2.457875</td>\n",
              "      <td>0.501690</td>\n",
              "      <td>0.752669</td>\n",
              "      <td>0.349479</td>\n",
              "      <td>-0.408857</td>\n",
              "      <td>0.519945</td>\n",
              "      <td>11.875336</td>\n",
              "      <td>85.406289</td>\n",
              "      <td>89.199509</td>\n",
              "      <td>0</td>\n",
              "    </tr>\n",
              "  </tbody>\n",
              "</table>\n",
              "</div>"
            ],
            "text/plain": [
              "   contrast  correlation    energy  ...       tial       tiar  class\n",
              "0    928250     0.753300  0.801406  ...  50.713104  54.625850      0\n",
              "1    658942     0.711066  0.821150  ...  44.209367  51.189105      0\n",
              "2    947877     0.746473  0.782498  ...  49.852332  59.431839      0\n",
              "3    924595     0.733291  0.786068  ...  18.855062  24.666811      1\n",
              "4    751573     0.747450  0.831692  ...  85.406289  89.199509      0\n",
              "\n",
              "[5 rows x 17 columns]"
            ]
          },
          "metadata": {
            "tags": []
          },
          "execution_count": 2580
        }
      ]
    },
    {
      "cell_type": "code",
      "metadata": {
        "id": "t1rUb6hZYDcO",
        "colab": {
          "base_uri": "https://localhost:8080/",
          "height": 425
        },
        "outputId": "b69bb0cc-9d03-49e4-d280-0ef5f761619d"
      },
      "source": [
        "glaucoma_data.info(verbose=True)"
      ],
      "execution_count": null,
      "outputs": [
        {
          "output_type": "stream",
          "text": [
            "<class 'pandas.core.frame.DataFrame'>\n",
            "RangeIndex: 100 entries, 0 to 99\n",
            "Data columns (total 17 columns):\n",
            " #   Column              Non-Null Count  Dtype  \n",
            "---  ------              --------------  -----  \n",
            " 0   contrast            100 non-null    int64  \n",
            " 1   correlation         100 non-null    float64\n",
            " 2   energy              100 non-null    float64\n",
            " 3   entropy             100 non-null    float64\n",
            " 4   homogenity          100 non-null    float64\n",
            " 5   sumofsquares        100 non-null    float64\n",
            " 6   sumaverage          100 non-null    float64\n",
            " 7   sumvariance         100 non-null    float64\n",
            " 8   sumentropy          100 non-null    float64\n",
            " 9   differencevariance  100 non-null    float64\n",
            " 10  differenceentropy   100 non-null    float64\n",
            " 11  imcorrelation1      100 non-null    float64\n",
            " 12  imcorrelation2      100 non-null    float64\n",
            " 13  acw                 100 non-null    float64\n",
            " 14  tial                100 non-null    float64\n",
            " 15  tiar                100 non-null    float64\n",
            " 16  class               100 non-null    int64  \n",
            "dtypes: float64(15), int64(2)\n",
            "memory usage: 13.4 KB\n"
          ],
          "name": "stdout"
        }
      ]
    },
    {
      "cell_type": "code",
      "metadata": {
        "id": "IGXkh4__YJ65",
        "colab": {
          "base_uri": "https://localhost:8080/",
          "height": 317
        },
        "outputId": "aedabaa3-c5d5-4ec3-e639-1e4b793b5426"
      },
      "source": [
        "glaucoma_data.describe()"
      ],
      "execution_count": null,
      "outputs": [
        {
          "output_type": "execute_result",
          "data": {
            "text/html": [
              "<div>\n",
              "<style scoped>\n",
              "    .dataframe tbody tr th:only-of-type {\n",
              "        vertical-align: middle;\n",
              "    }\n",
              "\n",
              "    .dataframe tbody tr th {\n",
              "        vertical-align: top;\n",
              "    }\n",
              "\n",
              "    .dataframe thead th {\n",
              "        text-align: right;\n",
              "    }\n",
              "</style>\n",
              "<table border=\"1\" class=\"dataframe\">\n",
              "  <thead>\n",
              "    <tr style=\"text-align: right;\">\n",
              "      <th></th>\n",
              "      <th>contrast</th>\n",
              "      <th>correlation</th>\n",
              "      <th>energy</th>\n",
              "      <th>entropy</th>\n",
              "      <th>homogenity</th>\n",
              "      <th>sumofsquares</th>\n",
              "      <th>sumaverage</th>\n",
              "      <th>sumvariance</th>\n",
              "      <th>sumentropy</th>\n",
              "      <th>differencevariance</th>\n",
              "      <th>differenceentropy</th>\n",
              "      <th>imcorrelation1</th>\n",
              "      <th>imcorrelation2</th>\n",
              "      <th>acw</th>\n",
              "      <th>tial</th>\n",
              "      <th>tiar</th>\n",
              "      <th>class</th>\n",
              "    </tr>\n",
              "  </thead>\n",
              "  <tbody>\n",
              "    <tr>\n",
              "      <th>count</th>\n",
              "      <td>100.00000</td>\n",
              "      <td>100.000000</td>\n",
              "      <td>100.000000</td>\n",
              "      <td>100.000000</td>\n",
              "      <td>100.000000</td>\n",
              "      <td>100.000000</td>\n",
              "      <td>100.000000</td>\n",
              "      <td>100.000000</td>\n",
              "      <td>100.000000</td>\n",
              "      <td>100.000000</td>\n",
              "      <td>100.000000</td>\n",
              "      <td>100.000000</td>\n",
              "      <td>100.000000</td>\n",
              "      <td>100.000000</td>\n",
              "      <td>100.000000</td>\n",
              "      <td>100.000000</td>\n",
              "      <td>100.000000</td>\n",
              "    </tr>\n",
              "    <tr>\n",
              "      <th>mean</th>\n",
              "      <td>681921.19000</td>\n",
              "      <td>0.716492</td>\n",
              "      <td>0.819442</td>\n",
              "      <td>0.633491</td>\n",
              "      <td>0.949218</td>\n",
              "      <td>0.573512</td>\n",
              "      <td>2.386943</td>\n",
              "      <td>1.990472</td>\n",
              "      <td>0.519160</td>\n",
              "      <td>0.726010</td>\n",
              "      <td>0.360554</td>\n",
              "      <td>-0.382742</td>\n",
              "      <td>0.508171</td>\n",
              "      <td>12.122796</td>\n",
              "      <td>49.254270</td>\n",
              "      <td>51.560224</td>\n",
              "      <td>0.200000</td>\n",
              "    </tr>\n",
              "    <tr>\n",
              "      <th>std</th>\n",
              "      <td>103177.47075</td>\n",
              "      <td>0.020636</td>\n",
              "      <td>0.019329</td>\n",
              "      <td>0.065103</td>\n",
              "      <td>0.005808</td>\n",
              "      <td>0.114384</td>\n",
              "      <td>0.062964</td>\n",
              "      <td>0.406865</td>\n",
              "      <td>0.051071</td>\n",
              "      <td>0.093932</td>\n",
              "      <td>0.032379</td>\n",
              "      <td>0.012613</td>\n",
              "      <td>0.026910</td>\n",
              "      <td>0.549334</td>\n",
              "      <td>20.498450</td>\n",
              "      <td>20.260891</td>\n",
              "      <td>0.402015</td>\n",
              "    </tr>\n",
              "    <tr>\n",
              "      <th>min</th>\n",
              "      <td>379721.00000</td>\n",
              "      <td>0.604802</td>\n",
              "      <td>0.775076</td>\n",
              "      <td>0.456302</td>\n",
              "      <td>0.936665</td>\n",
              "      <td>0.226453</td>\n",
              "      <td>2.207520</td>\n",
              "      <td>0.767065</td>\n",
              "      <td>0.378784</td>\n",
              "      <td>0.481257</td>\n",
              "      <td>0.270040</td>\n",
              "      <td>-0.418544</td>\n",
              "      <td>0.401025</td>\n",
              "      <td>10.761774</td>\n",
              "      <td>0.985500</td>\n",
              "      <td>0.572960</td>\n",
              "      <td>0.000000</td>\n",
              "    </tr>\n",
              "    <tr>\n",
              "      <th>25%</th>\n",
              "      <td>622812.50000</td>\n",
              "      <td>0.706229</td>\n",
              "      <td>0.805765</td>\n",
              "      <td>0.592002</td>\n",
              "      <td>0.944965</td>\n",
              "      <td>0.515251</td>\n",
              "      <td>2.352955</td>\n",
              "      <td>1.792565</td>\n",
              "      <td>0.486425</td>\n",
              "      <td>0.670014</td>\n",
              "      <td>0.338716</td>\n",
              "      <td>-0.387477</td>\n",
              "      <td>0.494873</td>\n",
              "      <td>11.781769</td>\n",
              "      <td>35.188662</td>\n",
              "      <td>37.351593</td>\n",
              "      <td>0.000000</td>\n",
              "    </tr>\n",
              "    <tr>\n",
              "      <th>50%</th>\n",
              "      <td>685597.00000</td>\n",
              "      <td>0.715420</td>\n",
              "      <td>0.819261</td>\n",
              "      <td>0.633477</td>\n",
              "      <td>0.949386</td>\n",
              "      <td>0.572460</td>\n",
              "      <td>2.386288</td>\n",
              "      <td>1.989109</td>\n",
              "      <td>0.519474</td>\n",
              "      <td>0.730293</td>\n",
              "      <td>0.360128</td>\n",
              "      <td>-0.382916</td>\n",
              "      <td>0.508947</td>\n",
              "      <td>12.116464</td>\n",
              "      <td>49.732319</td>\n",
              "      <td>53.747425</td>\n",
              "      <td>0.000000</td>\n",
              "    </tr>\n",
              "    <tr>\n",
              "      <th>75%</th>\n",
              "      <td>748981.25000</td>\n",
              "      <td>0.728323</td>\n",
              "      <td>0.833026</td>\n",
              "      <td>0.678491</td>\n",
              "      <td>0.953253</td>\n",
              "      <td>0.636348</td>\n",
              "      <td>2.425014</td>\n",
              "      <td>2.191111</td>\n",
              "      <td>0.553189</td>\n",
              "      <td>0.787931</td>\n",
              "      <td>0.384372</td>\n",
              "      <td>-0.377283</td>\n",
              "      <td>0.524610</td>\n",
              "      <td>12.441141</td>\n",
              "      <td>63.138057</td>\n",
              "      <td>65.783244</td>\n",
              "      <td>0.000000</td>\n",
              "    </tr>\n",
              "    <tr>\n",
              "      <th>max</th>\n",
              "      <td>947877.00000</td>\n",
              "      <td>0.774945</td>\n",
              "      <td>0.873105</td>\n",
              "      <td>0.791374</td>\n",
              "      <td>0.964867</td>\n",
              "      <td>0.935877</td>\n",
              "      <td>2.578993</td>\n",
              "      <td>3.326548</td>\n",
              "      <td>0.644483</td>\n",
              "      <td>0.956439</td>\n",
              "      <td>0.429758</td>\n",
              "      <td>-0.303767</td>\n",
              "      <td>0.584996</td>\n",
              "      <td>14.212093</td>\n",
              "      <td>97.945941</td>\n",
              "      <td>99.290512</td>\n",
              "      <td>1.000000</td>\n",
              "    </tr>\n",
              "  </tbody>\n",
              "</table>\n",
              "</div>"
            ],
            "text/plain": [
              "           contrast  correlation  ...        tiar       class\n",
              "count     100.00000   100.000000  ...  100.000000  100.000000\n",
              "mean   681921.19000     0.716492  ...   51.560224    0.200000\n",
              "std    103177.47075     0.020636  ...   20.260891    0.402015\n",
              "min    379721.00000     0.604802  ...    0.572960    0.000000\n",
              "25%    622812.50000     0.706229  ...   37.351593    0.000000\n",
              "50%    685597.00000     0.715420  ...   53.747425    0.000000\n",
              "75%    748981.25000     0.728323  ...   65.783244    0.000000\n",
              "max    947877.00000     0.774945  ...   99.290512    1.000000\n",
              "\n",
              "[8 rows x 17 columns]"
            ]
          },
          "metadata": {
            "tags": []
          },
          "execution_count": 2582
        }
      ]
    },
    {
      "cell_type": "code",
      "metadata": {
        "id": "SaudJO_8YN7p",
        "colab": {
          "base_uri": "https://localhost:8080/",
          "height": 34
        },
        "outputId": "35f0a64f-1ce7-4045-e76c-35fcf97824cf"
      },
      "source": [
        "glaucoma_data.shape"
      ],
      "execution_count": null,
      "outputs": [
        {
          "output_type": "execute_result",
          "data": {
            "text/plain": [
              "(100, 17)"
            ]
          },
          "metadata": {
            "tags": []
          },
          "execution_count": 2583
        }
      ]
    },
    {
      "cell_type": "code",
      "metadata": {
        "id": "gcIPD7fTYdzE",
        "colab": {
          "base_uri": "https://localhost:8080/",
          "height": 335
        },
        "outputId": "961a6fba-01e6-4696-95ac-1b1ed739fb5f"
      },
      "source": [
        "colors = [\"#11111F\", \"#1F0101\"]\n",
        "sns.countplot('class', data=glaucoma_data, palette=colors)\n",
        "plt.title('Class distributions \\n (0 -> No Glaucoma  1 -> Glaucoma)', fontsize=14)"
      ],
      "execution_count": null,
      "outputs": [
        {
          "output_type": "execute_result",
          "data": {
            "text/plain": [
              "Text(0.5, 1.0, 'Class distributions \\n (0 -> No Glaucoma  1 -> Glaucoma)')"
            ]
          },
          "metadata": {
            "tags": []
          },
          "execution_count": 2584
        },
        {
          "output_type": "display_data",
          "data": {
            "image/png": "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\n",
            "text/plain": [
              "<Figure size 432x288 with 1 Axes>"
            ]
          },
          "metadata": {
            "tags": []
          }
        }
      ]
    },
    {
      "cell_type": "code",
      "metadata": {
        "id": "j0AL5PRfYsV-"
      },
      "source": [
        "X = glaucoma_data.drop(['class'],axis=1)\n",
        "y = glaucoma_data['class']"
      ],
      "execution_count": null,
      "outputs": []
    },
    {
      "cell_type": "code",
      "metadata": {
        "id": "_77Frj4eY3Ip"
      },
      "source": [
        "from sklearn.model_selection import train_test_split\n",
        "X_train, X_test, y_train, y_test = train_test_split(X, y, test_size = 0.2, random_state = 0)"
      ],
      "execution_count": null,
      "outputs": []
    },
    {
      "cell_type": "code",
      "metadata": {
        "id": "9oxp5fTFZCFR"
      },
      "source": [
        "from sklearn.preprocessing import StandardScaler\n",
        "sc = StandardScaler()\n",
        "X_train = sc.fit_transform(X_train)\n",
        "X_test = sc.transform(X_test)"
      ],
      "execution_count": null,
      "outputs": []
    },
    {
      "cell_type": "code",
      "metadata": {
        "id": "nECRG204ZMvz"
      },
      "source": [
        "from keras.models import Sequential\n",
        "from keras.layers import Dense, Dropout"
      ],
      "execution_count": null,
      "outputs": []
    },
    {
      "cell_type": "code",
      "metadata": {
        "id": "DelGdE7iZYM1"
      },
      "source": [
        "classifier = Sequential()"
      ],
      "execution_count": null,
      "outputs": []
    },
    {
      "cell_type": "code",
      "metadata": {
        "id": "8Q4TVO3wZbzt"
      },
      "source": [
        "classifier.add(Dense(units = 6, kernel_initializer = 'uniform', activation = 'relu', input_dim = 16))\n",
        "classifier.add(Dropout(p=0.1))"
      ],
      "execution_count": null,
      "outputs": []
    },
    {
      "cell_type": "code",
      "metadata": {
        "id": "HpuT5s3YZ66v"
      },
      "source": [
        "classifier.add(Dense(units = 6, kernel_initializer = 'uniform', activation = 'relu'))\n",
        "classifier.add(Dropout(p=0.1))"
      ],
      "execution_count": null,
      "outputs": []
    },
    {
      "cell_type": "code",
      "metadata": {
        "id": "qZrySCLnaF_c"
      },
      "source": [
        "classifier.add(Dense(units = 1, kernel_initializer = 'uniform', activation = 'sigmoid'))\n"
      ],
      "execution_count": null,
      "outputs": []
    },
    {
      "cell_type": "code",
      "metadata": {
        "id": "VXIAYhZYaLcW"
      },
      "source": [
        "classifier.compile(optimizer = 'adam', loss = 'binary_crossentropy', metrics = ['accuracy'])"
      ],
      "execution_count": null,
      "outputs": []
    },
    {
      "cell_type": "code",
      "metadata": {
        "id": "WmLFJ16waWJ-",
        "colab": {
          "base_uri": "https://localhost:8080/",
          "height": 1000
        },
        "outputId": "f0def95c-f2fa-47b8-878b-0d77fd3a04a1"
      },
      "source": [
        "#classifier.fit(X_train, y_train, batch_size = 10, epochs = 100,verbose = 0)\n",
        "classifier.fit(X_train, y_train, batch_size=10, nb_epoch=100)\n",
        "#score, acc = classifier.evaluate(X_train, y_train,\n",
        " #                           batch_size=10)\n",
        "#print('Train score:', score)\n",
        "#print('Train accuracy:', acc)"
      ],
      "execution_count": null,
      "outputs": [
        {
          "output_type": "stream",
          "text": [
            "Epoch 1/100\n",
            "80/80 [==============================] - 0s 2ms/step - loss: 0.6922 - accuracy: 0.7875\n",
            "Epoch 2/100\n",
            "80/80 [==============================] - 0s 152us/step - loss: 0.6896 - accuracy: 0.8000\n",
            "Epoch 3/100\n",
            "80/80 [==============================] - 0s 146us/step - loss: 0.6865 - accuracy: 0.8000\n",
            "Epoch 4/100\n",
            "80/80 [==============================] - 0s 148us/step - loss: 0.6829 - accuracy: 0.8000\n",
            "Epoch 5/100\n",
            "80/80 [==============================] - 0s 145us/step - loss: 0.6784 - accuracy: 0.8000\n",
            "Epoch 6/100\n",
            "80/80 [==============================] - 0s 154us/step - loss: 0.6736 - accuracy: 0.8000\n",
            "Epoch 7/100\n",
            "80/80 [==============================] - 0s 154us/step - loss: 0.6668 - accuracy: 0.8000\n",
            "Epoch 8/100\n",
            "80/80 [==============================] - 0s 169us/step - loss: 0.6574 - accuracy: 0.8000\n",
            "Epoch 9/100\n",
            "80/80 [==============================] - 0s 153us/step - loss: 0.6482 - accuracy: 0.8000\n",
            "Epoch 10/100\n",
            "80/80 [==============================] - 0s 143us/step - loss: 0.6337 - accuracy: 0.8000\n",
            "Epoch 11/100\n",
            "80/80 [==============================] - 0s 151us/step - loss: 0.6197 - accuracy: 0.8000\n",
            "Epoch 12/100\n",
            "80/80 [==============================] - 0s 153us/step - loss: 0.5993 - accuracy: 0.8000\n",
            "Epoch 13/100\n",
            "80/80 [==============================] - 0s 159us/step - loss: 0.5904 - accuracy: 0.8000\n",
            "Epoch 14/100\n",
            "80/80 [==============================] - 0s 147us/step - loss: 0.5630 - accuracy: 0.8000\n",
            "Epoch 15/100\n",
            "80/80 [==============================] - 0s 141us/step - loss: 0.5488 - accuracy: 0.8000\n",
            "Epoch 16/100\n",
            "80/80 [==============================] - 0s 167us/step - loss: 0.5178 - accuracy: 0.8000\n",
            "Epoch 17/100\n",
            "80/80 [==============================] - 0s 167us/step - loss: 0.5060 - accuracy: 0.8000\n",
            "Epoch 18/100\n",
            "80/80 [==============================] - 0s 157us/step - loss: 0.5017 - accuracy: 0.8000\n",
            "Epoch 19/100\n",
            "80/80 [==============================] - 0s 153us/step - loss: 0.4659 - accuracy: 0.8000\n",
            "Epoch 20/100\n",
            "80/80 [==============================] - 0s 166us/step - loss: 0.4657 - accuracy: 0.8000\n",
            "Epoch 21/100\n",
            "80/80 [==============================] - 0s 152us/step - loss: 0.4532 - accuracy: 0.8000\n",
            "Epoch 22/100\n",
            "80/80 [==============================] - 0s 155us/step - loss: 0.4363 - accuracy: 0.8000\n",
            "Epoch 23/100\n",
            "80/80 [==============================] - 0s 155us/step - loss: 0.4293 - accuracy: 0.8000\n",
            "Epoch 24/100\n",
            "80/80 [==============================] - 0s 147us/step - loss: 0.3924 - accuracy: 0.8000\n",
            "Epoch 25/100\n",
            "80/80 [==============================] - 0s 191us/step - loss: 0.4061 - accuracy: 0.8000\n",
            "Epoch 26/100\n",
            "80/80 [==============================] - 0s 182us/step - loss: 0.3920 - accuracy: 0.8000\n",
            "Epoch 27/100\n",
            "80/80 [==============================] - 0s 165us/step - loss: 0.3919 - accuracy: 0.8000\n",
            "Epoch 28/100\n",
            "80/80 [==============================] - 0s 162us/step - loss: 0.3756 - accuracy: 0.8000\n",
            "Epoch 29/100\n",
            "80/80 [==============================] - 0s 160us/step - loss: 0.3801 - accuracy: 0.8000\n",
            "Epoch 30/100\n",
            "80/80 [==============================] - 0s 171us/step - loss: 0.3655 - accuracy: 0.8000\n",
            "Epoch 31/100\n",
            "80/80 [==============================] - 0s 163us/step - loss: 0.3398 - accuracy: 0.8000\n",
            "Epoch 32/100\n",
            "80/80 [==============================] - 0s 176us/step - loss: 0.3383 - accuracy: 0.8000\n",
            "Epoch 33/100\n",
            "80/80 [==============================] - 0s 156us/step - loss: 0.3249 - accuracy: 0.8000\n",
            "Epoch 34/100\n",
            "80/80 [==============================] - 0s 158us/step - loss: 0.3105 - accuracy: 0.8000\n",
            "Epoch 35/100\n",
            "80/80 [==============================] - 0s 165us/step - loss: 0.3262 - accuracy: 0.8000\n",
            "Epoch 36/100\n",
            "80/80 [==============================] - 0s 163us/step - loss: 0.3205 - accuracy: 0.8000\n",
            "Epoch 37/100\n",
            "80/80 [==============================] - 0s 148us/step - loss: 0.2979 - accuracy: 0.8000\n",
            "Epoch 38/100\n",
            "80/80 [==============================] - 0s 150us/step - loss: 0.3011 - accuracy: 0.8000\n",
            "Epoch 39/100\n",
            "80/80 [==============================] - 0s 150us/step - loss: 0.2963 - accuracy: 0.8000\n",
            "Epoch 40/100\n",
            "80/80 [==============================] - 0s 171us/step - loss: 0.2849 - accuracy: 0.8000\n",
            "Epoch 41/100\n",
            "80/80 [==============================] - 0s 173us/step - loss: 0.2716 - accuracy: 0.8000\n",
            "Epoch 42/100\n",
            "80/80 [==============================] - 0s 194us/step - loss: 0.2720 - accuracy: 0.8000\n",
            "Epoch 43/100\n",
            "80/80 [==============================] - 0s 167us/step - loss: 0.2651 - accuracy: 0.8000\n",
            "Epoch 44/100\n",
            "80/80 [==============================] - 0s 170us/step - loss: 0.2788 - accuracy: 0.8000\n",
            "Epoch 45/100\n",
            "80/80 [==============================] - 0s 306us/step - loss: 0.2697 - accuracy: 0.8000\n",
            "Epoch 46/100\n",
            "80/80 [==============================] - 0s 174us/step - loss: 0.2588 - accuracy: 0.8000\n",
            "Epoch 47/100\n",
            "80/80 [==============================] - 0s 174us/step - loss: 0.2474 - accuracy: 0.8000\n",
            "Epoch 48/100\n",
            "80/80 [==============================] - 0s 151us/step - loss: 0.2431 - accuracy: 0.8000\n",
            "Epoch 49/100\n",
            "80/80 [==============================] - 0s 163us/step - loss: 0.2593 - accuracy: 0.8000\n",
            "Epoch 50/100\n",
            "80/80 [==============================] - 0s 184us/step - loss: 0.2525 - accuracy: 0.8000\n",
            "Epoch 51/100\n",
            "80/80 [==============================] - 0s 168us/step - loss: 0.2459 - accuracy: 0.8000\n",
            "Epoch 52/100\n",
            "80/80 [==============================] - 0s 164us/step - loss: 0.2453 - accuracy: 0.8000\n",
            "Epoch 53/100\n",
            "80/80 [==============================] - 0s 151us/step - loss: 0.2345 - accuracy: 0.8000\n",
            "Epoch 54/100\n",
            "80/80 [==============================] - 0s 158us/step - loss: 0.2282 - accuracy: 0.8000\n",
            "Epoch 55/100\n",
            "80/80 [==============================] - 0s 162us/step - loss: 0.2289 - accuracy: 0.8000\n",
            "Epoch 56/100\n",
            "80/80 [==============================] - 0s 182us/step - loss: 0.2344 - accuracy: 0.8000\n",
            "Epoch 57/100\n",
            "80/80 [==============================] - 0s 156us/step - loss: 0.2282 - accuracy: 0.8000\n",
            "Epoch 58/100\n",
            "80/80 [==============================] - 0s 156us/step - loss: 0.2228 - accuracy: 0.8000\n",
            "Epoch 59/100\n",
            "80/80 [==============================] - 0s 153us/step - loss: 0.2163 - accuracy: 0.8000\n",
            "Epoch 60/100\n",
            "80/80 [==============================] - 0s 156us/step - loss: 0.2212 - accuracy: 0.8000\n",
            "Epoch 61/100\n",
            "80/80 [==============================] - 0s 163us/step - loss: 0.2281 - accuracy: 0.8000\n",
            "Epoch 62/100\n",
            "80/80 [==============================] - 0s 225us/step - loss: 0.2234 - accuracy: 0.8000\n",
            "Epoch 63/100\n",
            "80/80 [==============================] - 0s 144us/step - loss: 0.2253 - accuracy: 0.8000\n",
            "Epoch 64/100\n",
            "80/80 [==============================] - 0s 152us/step - loss: 0.2186 - accuracy: 0.8000\n",
            "Epoch 65/100\n",
            "80/80 [==============================] - 0s 150us/step - loss: 0.2116 - accuracy: 0.8000\n",
            "Epoch 66/100\n",
            "80/80 [==============================] - 0s 171us/step - loss: 0.2091 - accuracy: 0.8000\n",
            "Epoch 67/100\n",
            "80/80 [==============================] - 0s 166us/step - loss: 0.2107 - accuracy: 0.8000\n",
            "Epoch 68/100\n",
            "80/80 [==============================] - 0s 164us/step - loss: 0.2083 - accuracy: 0.8000\n",
            "Epoch 69/100\n",
            "80/80 [==============================] - 0s 161us/step - loss: 0.2083 - accuracy: 0.8000\n",
            "Epoch 70/100\n",
            "80/80 [==============================] - 0s 152us/step - loss: 0.2021 - accuracy: 0.8000\n",
            "Epoch 71/100\n",
            "80/80 [==============================] - 0s 167us/step - loss: 0.2073 - accuracy: 0.8000\n",
            "Epoch 72/100\n",
            "80/80 [==============================] - 0s 161us/step - loss: 0.2053 - accuracy: 0.8000\n",
            "Epoch 73/100\n",
            "80/80 [==============================] - 0s 150us/step - loss: 0.2190 - accuracy: 0.8000\n",
            "Epoch 74/100\n",
            "80/80 [==============================] - 0s 163us/step - loss: 0.2011 - accuracy: 0.8000\n",
            "Epoch 75/100\n",
            "80/80 [==============================] - 0s 192us/step - loss: 0.2016 - accuracy: 0.8000\n",
            "Epoch 76/100\n",
            "80/80 [==============================] - 0s 149us/step - loss: 0.2120 - accuracy: 0.8000\n",
            "Epoch 77/100\n",
            "80/80 [==============================] - 0s 176us/step - loss: 0.1932 - accuracy: 0.8000\n",
            "Epoch 78/100\n",
            "80/80 [==============================] - 0s 180us/step - loss: 0.1928 - accuracy: 0.8000\n",
            "Epoch 79/100\n",
            "80/80 [==============================] - 0s 196us/step - loss: 0.1932 - accuracy: 0.8000\n",
            "Epoch 80/100\n",
            "80/80 [==============================] - 0s 164us/step - loss: 0.1851 - accuracy: 0.8000\n",
            "Epoch 81/100\n",
            "80/80 [==============================] - 0s 159us/step - loss: 0.1852 - accuracy: 0.8000\n",
            "Epoch 82/100\n",
            "80/80 [==============================] - 0s 153us/step - loss: 0.1893 - accuracy: 0.8000\n",
            "Epoch 83/100\n",
            "80/80 [==============================] - 0s 171us/step - loss: 0.1778 - accuracy: 0.8000\n",
            "Epoch 84/100\n",
            "80/80 [==============================] - 0s 149us/step - loss: 0.1823 - accuracy: 0.8000\n",
            "Epoch 85/100\n",
            "80/80 [==============================] - 0s 146us/step - loss: 0.1812 - accuracy: 0.8000\n",
            "Epoch 86/100\n",
            "80/80 [==============================] - 0s 148us/step - loss: 0.1850 - accuracy: 0.8000\n",
            "Epoch 87/100\n",
            "80/80 [==============================] - 0s 151us/step - loss: 0.1952 - accuracy: 0.8000\n",
            "Epoch 88/100\n",
            "80/80 [==============================] - 0s 158us/step - loss: 0.1744 - accuracy: 0.8000\n",
            "Epoch 89/100\n",
            "80/80 [==============================] - 0s 145us/step - loss: 0.1786 - accuracy: 0.8000\n",
            "Epoch 90/100\n",
            "80/80 [==============================] - 0s 148us/step - loss: 0.2110 - accuracy: 0.8000\n",
            "Epoch 91/100\n",
            "80/80 [==============================] - 0s 164us/step - loss: 0.1886 - accuracy: 0.8250\n",
            "Epoch 92/100\n",
            "80/80 [==============================] - 0s 152us/step - loss: 0.1786 - accuracy: 0.9500\n",
            "Epoch 93/100\n",
            "80/80 [==============================] - 0s 152us/step - loss: 0.1712 - accuracy: 0.9500\n",
            "Epoch 94/100\n",
            "80/80 [==============================] - 0s 150us/step - loss: 0.1696 - accuracy: 0.9500\n",
            "Epoch 95/100\n",
            "80/80 [==============================] - 0s 163us/step - loss: 0.1652 - accuracy: 0.9750\n",
            "Epoch 96/100\n",
            "80/80 [==============================] - 0s 153us/step - loss: 0.1548 - accuracy: 0.9875\n",
            "Epoch 97/100\n",
            "80/80 [==============================] - 0s 145us/step - loss: 0.1663 - accuracy: 0.9750\n",
            "Epoch 98/100\n",
            "80/80 [==============================] - 0s 149us/step - loss: 0.1550 - accuracy: 0.9750\n",
            "Epoch 99/100\n",
            "80/80 [==============================] - 0s 159us/step - loss: 0.1509 - accuracy: 0.9750\n",
            "Epoch 100/100\n",
            "80/80 [==============================] - 0s 165us/step - loss: 0.1773 - accuracy: 0.9500\n"
          ],
          "name": "stdout"
        },
        {
          "output_type": "execute_result",
          "data": {
            "text/plain": [
              "<keras.callbacks.callbacks.History at 0x7f7b2bde5080>"
            ]
          },
          "metadata": {
            "tags": []
          },
          "execution_count": 2594
        }
      ]
    },
    {
      "cell_type": "code",
      "metadata": {
        "id": "IzYOnlLsapAe"
      },
      "source": [
        "y_pred = classifier.predict(X_test)\n",
        "y_pred = (y_pred > 0.5)\n"
      ],
      "execution_count": null,
      "outputs": []
    },
    {
      "cell_type": "code",
      "metadata": {
        "id": "40AZrmgLa8ds"
      },
      "source": [
        "#score, acc = classifier.evaluate(X_test, y_test,\n",
        " #                           batch_size=10)\n",
        "#print('Test score:', score)\n",
        "#print('Test accuracy:', acc)"
      ],
      "execution_count": null,
      "outputs": []
    },
    {
      "cell_type": "code",
      "metadata": {
        "id": "J3kffmh5bBpT"
      },
      "source": [
        "from sklearn.metrics import confusion_matrix\n",
        "cm = confusion_matrix(y_test, y_pred)"
      ],
      "execution_count": null,
      "outputs": []
    },
    {
      "cell_type": "code",
      "metadata": {
        "id": "5YynlwKzbvUs",
        "colab": {
          "base_uri": "https://localhost:8080/",
          "height": 34
        },
        "outputId": "34e76591-0eba-4069-bbe0-7253a119438b"
      },
      "source": [
        "from sklearn.metrics import accuracy_score\n",
        "print('accuracy is',accuracy_score(y_pred,y_test))"
      ],
      "execution_count": null,
      "outputs": [
        {
          "output_type": "stream",
          "text": [
            "accuracy is 0.95\n"
          ],
          "name": "stdout"
        }
      ]
    },
    {
      "cell_type": "code",
      "metadata": {
        "id": "ANIWmiG1bH8C",
        "colab": {
          "base_uri": "https://localhost:8080/",
          "height": 318
        },
        "outputId": "06ee18af-20c1-4cec-e427-44a36e0242a6"
      },
      "source": [
        "p = sns.heatmap(pd.DataFrame(cm), annot=True, cmap=\"YlGnBu\" ,fmt='g')\n",
        "plt.title('Confusion matrix', y=1.1)\n",
        "plt.ylabel('Actual label')\n",
        "plt.xlabel('Predicted label')"
      ],
      "execution_count": null,
      "outputs": [
        {
          "output_type": "execute_result",
          "data": {
            "text/plain": [
              "Text(0.5, 12.5, 'Predicted label')"
            ]
          },
          "metadata": {
            "tags": []
          },
          "execution_count": 2599
        },
        {
          "output_type": "display_data",
          "data": {
            "image/png": "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\n",
            "text/plain": [
              "<Figure size 432x288 with 2 Axes>"
            ]
          },
          "metadata": {
            "tags": []
          }
        }
      ]
    },
    {
      "cell_type": "code",
      "metadata": {
        "id": "f81dFgO6bPCp",
        "colab": {
          "base_uri": "https://localhost:8080/",
          "height": 170
        },
        "outputId": "4392bf34-9e57-4d3e-ebeb-0037892f520d"
      },
      "source": [
        "from sklearn.metrics import classification_report\n",
        "print(classification_report(y_test,y_pred))"
      ],
      "execution_count": null,
      "outputs": [
        {
          "output_type": "stream",
          "text": [
            "              precision    recall  f1-score   support\n",
            "\n",
            "           0       0.94      1.00      0.97        16\n",
            "           1       1.00      0.75      0.86         4\n",
            "\n",
            "    accuracy                           0.95        20\n",
            "   macro avg       0.97      0.88      0.91        20\n",
            "weighted avg       0.95      0.95      0.95        20\n",
            "\n"
          ],
          "name": "stdout"
        }
      ]
    },
    {
      "cell_type": "code",
      "metadata": {
        "id": "i6l_bpEEbZ2L",
        "colab": {
          "base_uri": "https://localhost:8080/",
          "height": 301
        },
        "outputId": "f82bb726-407d-4714-eb30-6af8e54fe5de"
      },
      "source": [
        "from sklearn.metrics import roc_curve\n",
        "y_pred_proba = classifier.predict_proba(X_test)\n",
        "fpr, tpr, thresholds = roc_curve(y_test, y_pred_proba)\n",
        "plt.plot([0,1],[0,1],'k--')\n",
        "plt.plot(fpr,tpr, label='ANN')\n",
        "plt.xlabel('fpr')\n",
        "plt.ylabel('tpr')\n",
        "plt.title('ROC curve')\n",
        "plt.show()"
      ],
      "execution_count": null,
      "outputs": [
        {
          "output_type": "display_data",
          "data": {
            "image/png": "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\n",
            "text/plain": [
              "<Figure size 432x288 with 1 Axes>"
            ]
          },
          "metadata": {
            "tags": []
          }
        }
      ]
    },
    {
      "cell_type": "code",
      "metadata": {
        "id": "tRFkg2mvbdQJ",
        "colab": {
          "base_uri": "https://localhost:8080/",
          "height": 34
        },
        "outputId": "5cde7c7e-6053-4691-bd9b-0cec0ad47fa5"
      },
      "source": [
        "from sklearn.metrics import roc_auc_score\n",
        "roc_auc_score(y_test,y_pred_proba)"
      ],
      "execution_count": null,
      "outputs": [
        {
          "output_type": "execute_result",
          "data": {
            "text/plain": [
              "1.0"
            ]
          },
          "metadata": {
            "tags": []
          },
          "execution_count": 2602
        }
      ]
    },
    {
      "cell_type": "code",
      "metadata": {
        "id": "JkzMQYBZbhxN"
      },
      "source": [],
      "execution_count": null,
      "outputs": []
    }
  ]
}
